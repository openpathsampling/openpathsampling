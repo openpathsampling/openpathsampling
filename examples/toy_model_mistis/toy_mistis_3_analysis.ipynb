{
 "cells": [
  {
   "cell_type": "code",
   "execution_count": 1,
   "metadata": {},
   "outputs": [],
   "source": [
    "from __future__ import print_function\n",
    "# if our large test file is available, use it. Otherwise, use file generated from toy_mistis_1_setup_run.ipynb\n",
    "import os\n",
    "test_file = \"../toy_mistis_1k_OPS1.nc\"\n",
    "filename = test_file if os.path.isfile(test_file) else \"mistis.nc\""
   ]
  },
  {
   "cell_type": "code",
   "execution_count": 2,
   "metadata": {},
   "outputs": [
    {
     "name": "stdout",
     "output_type": "stream",
     "text": [
      "../toy_mistis_1k_OPS1.nc\n"
     ]
    }
   ],
   "source": [
    "print(filename)"
   ]
  },
  {
   "cell_type": "code",
   "execution_count": 3,
   "metadata": {},
   "outputs": [],
   "source": [
    "%matplotlib inline\n",
    "import matplotlib.pyplot as plt\n",
    "import numpy as np\n",
    "import openpathsampling as paths"
   ]
  },
  {
   "cell_type": "code",
   "execution_count": 4,
   "metadata": {},
   "outputs": [
    {
     "name": "stdout",
     "output_type": "stream",
     "text": [
      "CPU times: user 617 ms, sys: 108 ms, total: 725 ms\n",
      "Wall time: 788 ms\n"
     ]
    }
   ],
   "source": [
    "%%time\n",
    "storage = paths.AnalysisStorage(filename)"
   ]
  },
  {
   "cell_type": "code",
   "execution_count": 5,
   "metadata": {},
   "outputs": [
    {
     "ename": "NameError",
     "evalue": "name 'storage' is not defined",
     "output_type": "error",
     "traceback": [
      "\u001b[0;31m---------------------------------------------------------------------------\u001b[0m",
      "\u001b[0;31mNameError\u001b[0m                                 Traceback (most recent call last)",
      "\u001b[0;32m<ipython-input-5-6044c40634e8>\u001b[0m in \u001b[0;36m<module>\u001b[0;34m\u001b[0m\n\u001b[0;32m----> 1\u001b[0;31m \u001b[0mmistis\u001b[0m \u001b[0;34m=\u001b[0m \u001b[0mstorage\u001b[0m\u001b[0;34m.\u001b[0m\u001b[0mnetworks\u001b[0m\u001b[0;34m.\u001b[0m\u001b[0mload\u001b[0m\u001b[0;34m(\u001b[0m\u001b[0;36m0\u001b[0m\u001b[0;34m)\u001b[0m\u001b[0;34m\u001b[0m\u001b[0;34m\u001b[0m\u001b[0m\n\u001b[0m",
      "\u001b[0;31mNameError\u001b[0m: name 'storage' is not defined"
     ]
    }
   ],
   "source": [
    "mistis = storage.networks.load(0)"
   ]
  },
  {
   "cell_type": "code",
   "execution_count": 6,
   "metadata": {
    "collapsed": true
   },
   "outputs": [],
   "source": [
    "mistis.hist_args['max_lambda'] = { 'bin_width' : 0.01, 'bin_range' : (-0.35, 0.5) }\n",
    "mistis.hist_args['pathlength'] = { 'bin_width' : 5, 'bin_range' : (0, 150) }"
   ]
  },
  {
   "cell_type": "code",
   "execution_count": 7,
   "metadata": {},
   "outputs": [
    {
     "name": "stdout",
     "output_type": "stream",
     "text": [
      "pathreversal ran 25.354% (expected 25.38%) of the cycles with acceptance 22007/25354 (86.80%)\n",
      "ms_outer_shooting ran 2.505% (expected 2.54%) of the cycles with acceptance 1484/2505 (59.24%)\n",
      "shooting ran 48.313% (expected 48.22%) of the cycles with acceptance 36208/48313 (74.94%)\n",
      "minus ran 0.967% (expected 1.02%) of the cycles with acceptance 724/967 (74.87%)\n",
      "repex ran 22.861% (expected 22.84%) of the cycles with acceptance 8342/22861 (36.49%)\n",
      "CPU times: user 14.6 s, sys: 331 ms, total: 15 s\n",
      "Wall time: 14.8 s\n"
     ]
    }
   ],
   "source": [
    "%%time\n",
    "scheme = storage.schemes[0]\n",
    "scheme.move_summary(storage.steps)"
   ]
  },
  {
   "cell_type": "code",
   "execution_count": 8,
   "metadata": {},
   "outputs": [
    {
     "name": "stdout",
     "output_type": "stream",
     "text": [
      "OneWayShootingMover A->C 4 strict ran 2.603% (expected 2.54%) of the cycles with acceptance 1846/2603 (70.92%)\n",
      "OneWayShootingMover B->A 5 strict ran 2.543% (expected 2.54%) of the cycles with acceptance 1593/2543 (62.64%)\n",
      "OneWayShootingMover A->B 5 strict ran 2.586% (expected 2.54%) of the cycles with acceptance 1616/2586 (62.49%)\n",
      "OneWayShootingMover A->B 0 strict ran 2.552% (expected 2.54%) of the cycles with acceptance 2147/2552 (84.13%)\n",
      "OneWayShootingMover A->C 5 strict ran 2.580% (expected 2.54%) of the cycles with acceptance 1589/2580 (61.59%)\n",
      "OneWayShootingMover A->C 0 strict ran 2.495% (expected 2.54%) of the cycles with acceptance 2092/2495 (83.85%)\n",
      "OneWayShootingMover A->B 1 strict ran 2.519% (expected 2.54%) of the cycles with acceptance 2077/2519 (82.45%)\n",
      "OneWayShootingMover A->C 6 strict ran 2.583% (expected 2.54%) of the cycles with acceptance 1496/2583 (57.92%)\n",
      "OneWayShootingMover A->C 1 strict ran 2.600% (expected 2.54%) of the cycles with acceptance 2134/2600 (82.08%)\n",
      "OneWayShootingMover A->B 2 strict ran 2.532% (expected 2.54%) of the cycles with acceptance 2031/2532 (80.21%)\n",
      "OneWayShootingMover B->A 0 strict ran 2.552% (expected 2.54%) of the cycles with acceptance 2178/2552 (85.34%)\n",
      "OneWayShootingMover A->C 2 strict ran 2.550% (expected 2.54%) of the cycles with acceptance 2016/2550 (79.06%)\n",
      "OneWayShootingMover A->B 3 strict ran 2.490% (expected 2.54%) of the cycles with acceptance 1906/2490 (76.55%)\n",
      "OneWayShootingMover B->A 1 strict ran 2.519% (expected 2.54%) of the cycles with acceptance 2022/2519 (80.27%)\n",
      "OneWayShootingMover B->A 3 strict ran 2.473% (expected 2.54%) of the cycles with acceptance 1887/2473 (76.30%)\n",
      "OneWayShootingMover A->C 3 strict ran 2.574% (expected 2.54%) of the cycles with acceptance 1930/2574 (74.98%)\n",
      "OneWayShootingMover A->B 4 strict ran 2.590% (expected 2.54%) of the cycles with acceptance 1908/2590 (73.67%)\n",
      "OneWayShootingMover B->A 4 strict ran 2.526% (expected 2.54%) of the cycles with acceptance 1797/2526 (71.14%)\n",
      "OneWayShootingMover B->A 2 strict ran 2.446% (expected 2.54%) of the cycles with acceptance 1943/2446 (79.44%)\n"
     ]
    }
   ],
   "source": [
    "scheme.move_summary(storage.steps, 'shooting')"
   ]
  },
  {
   "cell_type": "code",
   "execution_count": 9,
   "metadata": {},
   "outputs": [
    {
     "name": "stdout",
     "output_type": "stream",
     "text": [
      "Minus ran 0.510% (expected 0.51%) of the cycles with acceptance 507/510 (99.41%)\n",
      "Minus ran 0.457% (expected 0.51%) of the cycles with acceptance 217/457 (47.48%)\n"
     ]
    }
   ],
   "source": [
    "scheme.move_summary(storage.steps, 'minus')"
   ]
  },
  {
   "cell_type": "code",
   "execution_count": 10,
   "metadata": {},
   "outputs": [
    {
     "name": "stdout",
     "output_type": "stream",
     "text": [
      "ReplicaExchange ran 1.302% (expected 1.27%) of the cycles with acceptance 674/1302 (51.77%)\n",
      "ReplicaExchange ran 1.221% (expected 1.27%) of the cycles with acceptance 527/1221 (43.16%)\n",
      "ReplicaExchange ran 1.251% (expected 1.27%) of the cycles with acceptance 282/1251 (22.54%)\n",
      "ReplicaExchange ran 1.231% (expected 1.27%) of the cycles with acceptance 655/1231 (53.21%)\n",
      "ReplicaExchange ran 1.202% (expected 1.27%) of the cycles with acceptance 382/1202 (31.78%)\n",
      "ReplicaExchange ran 1.237% (expected 1.27%) of the cycles with acceptance 491/1237 (39.69%)\n",
      "ReplicaExchange ran 1.304% (expected 1.27%) of the cycles with acceptance 690/1304 (52.91%)\n",
      "ReplicaExchange ran 1.325% (expected 1.27%) of the cycles with acceptance 306/1325 (23.09%)\n",
      "ReplicaExchange ran 1.294% (expected 1.27%) of the cycles with acceptance 528/1294 (40.80%)\n",
      "ReplicaExchange ran 1.321% (expected 1.27%) of the cycles with acceptance 277/1321 (20.97%)\n",
      "ReplicaExchange ran 1.315% (expected 1.27%) of the cycles with acceptance 324/1315 (24.64%)\n",
      "ReplicaExchange ran 1.260% (expected 1.27%) of the cycles with acceptance 475/1260 (37.70%)\n",
      "ReplicaExchange ran 1.312% (expected 1.27%) of the cycles with acceptance 340/1312 (25.91%)\n",
      "ReplicaExchange ran 1.241% (expected 1.27%) of the cycles with acceptance 618/1241 (49.80%)\n",
      "ReplicaExchange ran 1.210% (expected 1.27%) of the cycles with acceptance 534/1210 (44.13%)\n",
      "ReplicaExchange ran 1.290% (expected 1.27%) of the cycles with acceptance 317/1290 (24.57%)\n",
      "ReplicaExchange ran 1.292% (expected 1.27%) of the cycles with acceptance 324/1292 (25.08%)\n",
      "ReplicaExchange ran 1.253% (expected 1.27%) of the cycles with acceptance 598/1253 (47.73%)\n"
     ]
    }
   ],
   "source": [
    "scheme.move_summary(storage.steps, 'repex')"
   ]
  },
  {
   "cell_type": "code",
   "execution_count": 11,
   "metadata": {
    "collapsed": true
   },
   "outputs": [],
   "source": [
    "# we need to load the states and the innermost interface for each transition\n",
    "stateA = storage.volumes['A']\n",
    "stateB = storage.volumes['B']\n",
    "stateC = storage.volumes['C']\n",
    "inner_AB = mistis.transitions[(stateA, stateB)].interfaces[0]\n",
    "inner_AC = mistis.transitions[(stateA, stateC)].interfaces[0]\n",
    "inner_BA = mistis.transitions[(stateB, stateA)].interfaces[0]"
   ]
  },
  {
   "cell_type": "code",
   "execution_count": 12,
   "metadata": {
    "collapsed": true
   },
   "outputs": [],
   "source": [
    "# got these from mistis_flux.ipynb\n",
    "fluxes = {(stateA, inner_AB): 0.0916199741819,\n",
    "          (stateA, inner_AC): 0.0915271110694,\n",
    "          (stateB, inner_BA): 0.0916882528979}\n",
    "mistis.set_fluxes(fluxes)"
   ]
  },
  {
   "cell_type": "code",
   "execution_count": 13,
   "metadata": {},
   "outputs": [
    {
     "name": "stderr",
     "output_type": "stream",
     "text": [
      "/Users/dwhs/Dropbox/msm-tis/openpathsampling/numerics/wham.py:336: RuntimeWarning: invalid value encountered in divide\n",
      "  addends_k = np.divide(numerator_byQ, sum_over_Z_byQ)\n",
      "/Users/dwhs/Dropbox/msm-tis/openpathsampling/numerics/wham.py:409: RuntimeWarning: invalid value encountered in double_scalars\n",
      "  output[val] = sum_k_Hk_Q[val] / sum_w_over_Z\n"
     ]
    },
    {
     "name": "stdout",
     "output_type": "stream",
     "text": [
      "CPU times: user 17min 20s, sys: 10.2 s, total: 17min 30s\n",
      "Wall time: 2h 44min 30s\n"
     ]
    }
   ],
   "source": [
    "%%time\n",
    "rate = mistis.rate_matrix(storage.steps, force=True)\n",
    "rate"
   ]
  },
  {
   "cell_type": "code",
   "execution_count": 35,
   "metadata": {},
   "outputs": [
    {
     "data": {
      "text/html": [
       "<div>\n",
       "<style>\n",
       "    .dataframe thead tr:only-child th {\n",
       "        text-align: right;\n",
       "    }\n",
       "\n",
       "    .dataframe thead th {\n",
       "        text-align: left;\n",
       "    }\n",
       "\n",
       "    .dataframe tbody tr th {\n",
       "        vertical-align: top;\n",
       "    }\n",
       "</style>\n",
       "<table border=\"1\" class=\"dataframe\">\n",
       "  <thead>\n",
       "    <tr style=\"text-align: right;\">\n",
       "      <th></th>\n",
       "      <th>A</th>\n",
       "      <th>B</th>\n",
       "      <th>C</th>\n",
       "    </tr>\n",
       "  </thead>\n",
       "  <tbody>\n",
       "    <tr>\n",
       "      <th>A</th>\n",
       "      <td>NaN</td>\n",
       "      <td>1.509e-04</td>\n",
       "      <td>2.375e-04</td>\n",
       "    </tr>\n",
       "    <tr>\n",
       "      <th>B</th>\n",
       "      <td>1.709e-04</td>\n",
       "      <td>NaN</td>\n",
       "      <td>NaN</td>\n",
       "    </tr>\n",
       "    <tr>\n",
       "      <th>({x|opX(x) in [-inf, -0.3]} and {x|opY(x) in [-inf, -0.3]})</th>\n",
       "      <td>0.4669794</td>\n",
       "      <td>1</td>\n",
       "      <td>NaN</td>\n",
       "    </tr>\n",
       "  </tbody>\n",
       "</table>\n",
       "</div>"
      ],
      "text/plain": [
       "          A         B         C\n",
       "A       NaN 1.509e-04 2.375e-04\n",
       "B 1.709e-04       NaN       NaN"
      ]
     },
     "execution_count": 35,
     "metadata": {},
     "output_type": "execute_result"
    }
   ],
   "source": [
    "import pandas as pd\n",
    "pd.options.display.float_format = '{:.3e}'.format\n",
    "rate"
   ]
  },
  {
   "cell_type": "code",
   "execution_count": 46,
   "metadata": {},
   "outputs": [
    {
     "name": "stdout",
     "output_type": "stream",
     "text": [
      "\\begin{tabular}{llll}\n",
      "\\toprule\n",
      "{} &         A &         B &         C \\\\\n",
      "\\midrule\n",
      "\\textbf{A} &       NaN & 1.509e-04 & 2.375e-04 \\\\\n",
      "\\textbf{B} & 1.709e-04 &       NaN &       NaN \\\\\n",
      "\\bottomrule\n",
      "\\end{tabular}\n",
      "\n"
     ]
    }
   ],
   "source": [
    "# this can be copy-pasted into an article\n",
    "print(rate.to_latex(float_format='{:.3e}'.format))"
   ]
  },
  {
   "cell_type": "code",
   "execution_count": 14,
   "metadata": {},
   "outputs": [
    {
     "name": "stdout",
     "output_type": "stream",
     "text": [
      "TISTransition: A->C\n",
      "A -> A or C\n",
      "Interface: -inf<opY<-0.35\n",
      "Interface: -inf<opY<-0.3\n",
      "Interface: -inf<opY<-0.27\n",
      "Interface: -inf<opY<-0.24\n",
      "Interface: -inf<opY<-0.2\n",
      "Interface: -inf<opY<-0.1\n",
      "Interface: -inf<opY<0.0\n",
      "\n"
     ]
    }
   ],
   "source": [
    "trans = list(mistis.transitions.values())[2]\n",
    "trans_hists = trans.histograms['max_lambda']\n",
    "print(trans)"
   ]
  },
  {
   "cell_type": "code",
   "execution_count": 15,
   "metadata": {},
   "outputs": [
    {
     "data": {
      "text/plain": [
       "[<matplotlib.lines.Line2D at 0x1dcb1be10>]"
      ]
     },
     "execution_count": 15,
     "metadata": {},
     "output_type": "execute_result"
    },
    {
     "data": {
      "image/png": "[encoded data removed]",
      "text/plain": [
       "<matplotlib.figure.Figure at 0x1dcabab10>"
      ]
     },
     "metadata": {},
     "output_type": "display_data"
    }
   ],
   "source": [
    "for hist in trans_hists:\n",
    "    cross_prob = trans_hists[hist].reverse_cumulative()\n",
    "    plt.plot(cross_prob.x, np.log(cross_prob))\n",
    "plt.plot(trans.tcp.x, np.log(trans.tcp), '-k', lw=2)"
   ]
  },
  {
   "cell_type": "code",
   "execution_count": 16,
   "metadata": {},
   "outputs": [
    {
     "data": {
      "text/plain": [
       "100001"
      ]
     },
     "execution_count": 16,
     "metadata": {},
     "output_type": "execute_result"
    }
   ],
   "source": [
    "len(storage.steps)"
   ]
  },
  {
   "cell_type": "code",
   "execution_count": 17,
   "metadata": {
    "collapsed": true
   },
   "outputs": [],
   "source": [
    "#import logging.config\n",
    "#logging.config.fileConfig(\"../resources/debug_logging.conf\", disable_existing_loggers=False)"
   ]
  },
  {
   "cell_type": "code",
   "execution_count": 18,
   "metadata": {
    "collapsed": true
   },
   "outputs": [],
   "source": [
    "n_blocks = 1  # for testing code"
   ]
  },
  {
   "cell_type": "code",
   "execution_count": 19,
   "metadata": {
    "collapsed": true
   },
   "outputs": [],
   "source": [
    "# NBVAL_SKIP\n",
    "n_blocks = 5 # for real examples"
   ]
  },
  {
   "cell_type": "code",
   "execution_count": 20,
   "metadata": {
    "collapsed": true
   },
   "outputs": [],
   "source": [
    "resampling = paths.numerics.BlockResampling(storage.steps, n_blocks=n_blocks)"
   ]
  },
  {
   "cell_type": "code",
   "execution_count": 21,
   "metadata": {
    "collapsed": true
   },
   "outputs": [],
   "source": [
    "rate_df_func = lambda steps: mistis.rate_matrix(steps, force=True)"
   ]
  },
  {
   "cell_type": "code",
   "execution_count": 22,
   "metadata": {
    "scrolled": false
   },
   "outputs": [
    {
     "name": "stdout",
     "output_type": "stream",
     "text": [
      "CPU times: user 3min 10s, sys: 2.93 s, total: 3min 13s\n",
      "Wall time: 1h 30min 7s\n"
     ]
    }
   ],
   "source": [
    "%%time\n",
    "rates = paths.numerics.ResamplingStatistics(function=rate_df_func, inputs=resampling.blocks)"
   ]
  },
  {
   "cell_type": "code",
   "execution_count": 37,
   "metadata": {},
   "outputs": [
    {
     "data": {
      "text/html": [
       "<div>\n",
       "<style>\n",
       "    .dataframe thead tr:only-child th {\n",
       "        text-align: right;\n",
       "    }\n",
       "\n",
       "    .dataframe thead th {\n",
       "        text-align: left;\n",
       "    }\n",
       "\n",
       "    .dataframe tbody tr th {\n",
       "        vertical-align: top;\n",
       "    }\n",
       "</style>\n",
       "<table border=\"1\" class=\"dataframe\">\n",
       "  <thead>\n",
       "    <tr style=\"text-align: right;\">\n",
       "      <th></th>\n",
       "      <th>A</th>\n",
       "      <th>B</th>\n",
       "      <th>C</th>\n",
       "    </tr>\n",
       "  </thead>\n",
       "  <tbody>\n",
       "    <tr>\n",
       "      <th>A</th>\n",
       "      <td>NaN</td>\n",
       "      <td>1.899e-04</td>\n",
       "      <td>2.464e-04</td>\n",
       "    </tr>\n",
       "    <tr>\n",
       "      <th>B</th>\n",
       "      <td>1.893e-04</td>\n",
       "      <td>NaN</td>\n",
       "      <td>NaN</td>\n",
       "    </tr>\n",
       "  </tbody>\n",
       "</table>\n",
       "</div>"
      ],
      "text/plain": [
       "          A         B         C\n",
       "A       NaN 1.899e-04 2.464e-04\n",
       "B 1.893e-04       NaN       NaN"
      ]
     },
     "execution_count": 37,
     "metadata": {},
     "output_type": "execute_result"
    }
   ],
   "source": [
    "rates.mean"
   ]
  },
  {
   "cell_type": "code",
   "execution_count": 38,
   "metadata": {},
   "outputs": [
    {
     "data": {
      "text/html": [
       "<div>\n",
       "<style>\n",
       "    .dataframe thead tr:only-child th {\n",
       "        text-align: right;\n",
       "    }\n",
       "\n",
       "    .dataframe thead th {\n",
       "        text-align: left;\n",
       "    }\n",
       "\n",
       "    .dataframe tbody tr th {\n",
       "        vertical-align: top;\n",
       "    }\n",
       "</style>\n",
       "<table border=\"1\" class=\"dataframe\">\n",
       "  <thead>\n",
       "    <tr style=\"text-align: right;\">\n",
       "      <th></th>\n",
       "      <th>A</th>\n",
       "      <th>B</th>\n",
       "      <th>C</th>\n",
       "    </tr>\n",
       "  </thead>\n",
       "  <tbody>\n",
       "    <tr>\n",
       "      <th>A</th>\n",
       "      <td>nan</td>\n",
       "      <td>1.156e-04</td>\n",
       "      <td>9.804e-05</td>\n",
       "    </tr>\n",
       "    <tr>\n",
       "      <th>B</th>\n",
       "      <td>1.208e-04</td>\n",
       "      <td>nan</td>\n",
       "      <td>nan</td>\n",
       "    </tr>\n",
       "  </tbody>\n",
       "</table>\n",
       "</div>"
      ],
      "text/plain": [
       "          A         B         C\n",
       "A       nan 1.156e-04 9.804e-05\n",
       "B 1.208e-04       nan       nan"
      ]
     },
     "execution_count": 38,
     "metadata": {},
     "output_type": "execute_result"
    }
   ],
   "source": [
    "rates.std"
   ]
  },
  {
   "cell_type": "code",
   "execution_count": 39,
   "metadata": {},
   "outputs": [
    {
     "data": {
      "text/html": [
       "<div>\n",
       "<style>\n",
       "    .dataframe thead tr:only-child th {\n",
       "        text-align: right;\n",
       "    }\n",
       "\n",
       "    .dataframe thead th {\n",
       "        text-align: left;\n",
       "    }\n",
       "\n",
       "    .dataframe tbody tr th {\n",
       "        vertical-align: top;\n",
       "    }\n",
       "</style>\n",
       "<table border=\"1\" class=\"dataframe\">\n",
       "  <thead>\n",
       "    <tr style=\"text-align: right;\">\n",
       "      <th></th>\n",
       "      <th>A</th>\n",
       "      <th>B</th>\n",
       "      <th>C</th>\n",
       "    </tr>\n",
       "  </thead>\n",
       "  <tbody>\n",
       "    <tr>\n",
       "      <th>A</th>\n",
       "      <td>NaN</td>\n",
       "      <td>1.562e-05</td>\n",
       "      <td>1.041e-04</td>\n",
       "    </tr>\n",
       "    <tr>\n",
       "      <th>B</th>\n",
       "      <td>9.505e-05</td>\n",
       "      <td>NaN</td>\n",
       "      <td>NaN</td>\n",
       "    </tr>\n",
       "  </tbody>\n",
       "</table>\n",
       "</div>"
      ],
      "text/plain": [
       "          A         B         C\n",
       "A       NaN 1.562e-05 1.041e-04\n",
       "B 9.505e-05       NaN       NaN"
      ]
     },
     "execution_count": 39,
     "metadata": {},
     "output_type": "execute_result"
    }
   ],
   "source": [
    "rates.percentile(0)"
   ]
  },
  {
   "cell_type": "code",
   "execution_count": 40,
   "metadata": {},
   "outputs": [
    {
     "data": {
      "text/html": [
       "<div>\n",
       "<style>\n",
       "    .dataframe thead tr:only-child th {\n",
       "        text-align: right;\n",
       "    }\n",
       "\n",
       "    .dataframe thead th {\n",
       "        text-align: left;\n",
       "    }\n",
       "\n",
       "    .dataframe tbody tr th {\n",
       "        vertical-align: top;\n",
       "    }\n",
       "</style>\n",
       "<table border=\"1\" class=\"dataframe\">\n",
       "  <thead>\n",
       "    <tr style=\"text-align: right;\">\n",
       "      <th></th>\n",
       "      <th>A</th>\n",
       "      <th>B</th>\n",
       "      <th>C</th>\n",
       "    </tr>\n",
       "  </thead>\n",
       "  <tbody>\n",
       "    <tr>\n",
       "      <th>A</th>\n",
       "      <td>NaN</td>\n",
       "      <td>1.620e-04</td>\n",
       "      <td>1.635e-04</td>\n",
       "    </tr>\n",
       "    <tr>\n",
       "      <th>B</th>\n",
       "      <td>1.015e-04</td>\n",
       "      <td>NaN</td>\n",
       "      <td>NaN</td>\n",
       "    </tr>\n",
       "  </tbody>\n",
       "</table>\n",
       "</div>"
      ],
      "text/plain": [
       "          A         B         C\n",
       "A       NaN 1.620e-04 1.635e-04\n",
       "B 1.015e-04       NaN       NaN"
      ]
     },
     "execution_count": 40,
     "metadata": {},
     "output_type": "execute_result"
    }
   ],
   "source": [
    "rates.percentile(25)"
   ]
  },
  {
   "cell_type": "code",
   "execution_count": 41,
   "metadata": {},
   "outputs": [
    {
     "data": {
      "text/html": [
       "<div>\n",
       "<style>\n",
       "    .dataframe thead tr:only-child th {\n",
       "        text-align: right;\n",
       "    }\n",
       "\n",
       "    .dataframe thead th {\n",
       "        text-align: left;\n",
       "    }\n",
       "\n",
       "    .dataframe tbody tr th {\n",
       "        vertical-align: top;\n",
       "    }\n",
       "</style>\n",
       "<table border=\"1\" class=\"dataframe\">\n",
       "  <thead>\n",
       "    <tr style=\"text-align: right;\">\n",
       "      <th></th>\n",
       "      <th>A</th>\n",
       "      <th>B</th>\n",
       "      <th>C</th>\n",
       "    </tr>\n",
       "  </thead>\n",
       "  <tbody>\n",
       "    <tr>\n",
       "      <th>A</th>\n",
       "      <td>NaN</td>\n",
       "      <td>1.885e-04</td>\n",
       "      <td>2.845e-04</td>\n",
       "    </tr>\n",
       "    <tr>\n",
       "      <th>B</th>\n",
       "      <td>1.413e-04</td>\n",
       "      <td>NaN</td>\n",
       "      <td>NaN</td>\n",
       "    </tr>\n",
       "  </tbody>\n",
       "</table>\n",
       "</div>"
      ],
      "text/plain": [
       "          A         B         C\n",
       "A       NaN 1.885e-04 2.845e-04\n",
       "B 1.413e-04       NaN       NaN"
      ]
     },
     "execution_count": 41,
     "metadata": {},
     "output_type": "execute_result"
    }
   ],
   "source": [
    "rates.percentile(50)"
   ]
  },
  {
   "cell_type": "code",
   "execution_count": 42,
   "metadata": {},
   "outputs": [
    {
     "data": {
      "text/html": [
       "<div>\n",
       "<style>\n",
       "    .dataframe thead tr:only-child th {\n",
       "        text-align: right;\n",
       "    }\n",
       "\n",
       "    .dataframe thead th {\n",
       "        text-align: left;\n",
       "    }\n",
       "\n",
       "    .dataframe tbody tr th {\n",
       "        vertical-align: top;\n",
       "    }\n",
       "</style>\n",
       "<table border=\"1\" class=\"dataframe\">\n",
       "  <thead>\n",
       "    <tr style=\"text-align: right;\">\n",
       "      <th></th>\n",
       "      <th>A</th>\n",
       "      <th>B</th>\n",
       "      <th>C</th>\n",
       "    </tr>\n",
       "  </thead>\n",
       "  <tbody>\n",
       "    <tr>\n",
       "      <th>A</th>\n",
       "      <td>NaN</td>\n",
       "      <td>2.052e-04</td>\n",
       "      <td>3.086e-04</td>\n",
       "    </tr>\n",
       "    <tr>\n",
       "      <th>B</th>\n",
       "      <td>1.868e-04</td>\n",
       "      <td>NaN</td>\n",
       "      <td>NaN</td>\n",
       "    </tr>\n",
       "  </tbody>\n",
       "</table>\n",
       "</div>"
      ],
      "text/plain": [
       "          A         B         C\n",
       "A       NaN 2.052e-04 3.086e-04\n",
       "B 1.868e-04       NaN       NaN"
      ]
     },
     "execution_count": 42,
     "metadata": {},
     "output_type": "execute_result"
    }
   ],
   "source": [
    "rates.percentile(75)"
   ]
  },
  {
   "cell_type": "code",
   "execution_count": 43,
   "metadata": {},
   "outputs": [
    {
     "data": {
      "text/html": [
       "<div>\n",
       "<style>\n",
       "    .dataframe thead tr:only-child th {\n",
       "        text-align: right;\n",
       "    }\n",
       "\n",
       "    .dataframe thead th {\n",
       "        text-align: left;\n",
       "    }\n",
       "\n",
       "    .dataframe tbody tr th {\n",
       "        vertical-align: top;\n",
       "    }\n",
       "</style>\n",
       "<table border=\"1\" class=\"dataframe\">\n",
       "  <thead>\n",
       "    <tr style=\"text-align: right;\">\n",
       "      <th></th>\n",
       "      <th>A</th>\n",
       "      <th>B</th>\n",
       "      <th>C</th>\n",
       "    </tr>\n",
       "  </thead>\n",
       "  <tbody>\n",
       "    <tr>\n",
       "      <th>A</th>\n",
       "      <td>NaN</td>\n",
       "      <td>3.782e-04</td>\n",
       "      <td>3.714e-04</td>\n",
       "    </tr>\n",
       "    <tr>\n",
       "      <th>B</th>\n",
       "      <td>4.218e-04</td>\n",
       "      <td>NaN</td>\n",
       "      <td>NaN</td>\n",
       "    </tr>\n",
       "  </tbody>\n",
       "</table>\n",
       "</div>"
      ],
      "text/plain": [
       "          A         B         C\n",
       "A       NaN 3.782e-04 3.714e-04\n",
       "B 4.218e-04       NaN       NaN"
      ]
     },
     "execution_count": 43,
     "metadata": {},
     "output_type": "execute_result"
    }
   ],
   "source": [
    "rates.percentile(100)"
   ]
  },
  {
   "cell_type": "code",
   "execution_count": null,
   "metadata": {
    "collapsed": true
   },
   "outputs": [],
   "source": []
  }
 ],
 "metadata": {
  "kernelspec": {
   "display_name": "Python 3",
   "language": "python",
   "name": "python3"
  },
  "language_info": {
   "codemirror_mode": {
    "name": "ipython",
    "version": 3
   },
   "file_extension": ".py",
   "mimetype": "text/x-python",
   "name": "python",
   "nbconvert_exporter": "python",
   "pygments_lexer": "ipython3",
   "version": "3.7.2"
  }
 },
 "nbformat": 4,
 "nbformat_minor": 1
}
