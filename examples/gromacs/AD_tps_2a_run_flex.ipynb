{
 "cells": [
  {
   "cell_type": "markdown",
   "metadata": {},
   "source": [
    "This is file runs the main calculation for the flexible length TPS simulation. It requires the file `storage_01.db`, which is written in the notebook `AD_tps_1_trajectory.ipynb`.\n",
    "\n",
    "In this file, you will learn:\n",
    "* how to set up and run a flexible length TPS simulation\n",
    "\n",
    "NB: This is a long calculation. In practice, it would be best to export the Python from this notebook, remove the `live_visualizer`, and run non-interactively on a computing node."
   ]
  },
  {
   "cell_type": "code",
   "execution_count": null,
   "metadata": {},
   "outputs": [],
   "source": [
    "from __future__ import print_function\n",
    "%matplotlib inline"
   ]
  },
  {
   "cell_type": "code",
   "execution_count": null,
   "metadata": {},
   "outputs": [],
   "source": [
    "import openpathsampling as paths\n",
    "from openpathsampling.experimental.storage import monkey_patch_saving\n",
    "paths = monkey_patch_saving(paths)\n",
    "from openpathsampling.experimental.storage import Storage\n",
    "old_storage = Storage(\"storage_01.db\", mode='r')"
   ]
  },
  {
   "cell_type": "markdown",
   "metadata": {},
   "source": [
    "## Load engine, trajectory, and network from file"
   ]
  },
  {
   "cell_type": "code",
   "execution_count": null,
   "metadata": {},
   "outputs": [],
   "source": [
    "options = {\n",
    "    'gmx_executable': 'gmx -nobackup ',\n",
    "    'snapshot_timestep': 0.02,\n",
    "    'n_frames_max': 10000,\n",
    "    'mdrun_args': '-nt 8 ',\n",
    "}\n",
    "# we create a new engine because we want to save in new directories\n",
    "# (prod instead of equil)\n",
    "engine = paths.engines.gromacs.Engine(gro=\"conf.gro\",\n",
    "                        mdp=\"md.mdp\",\n",
    "                        top=\"topol.top\",\n",
    "                        options=options,\n",
    "                        base_dir=\".\",\n",
    "                        prefix=\"prod\").named(\"production\")\n",
    "\n",
    "# reload our coordinate variables\n",
    "phi = old_storage.cvs['phi']\n",
    "psi = old_storage.cvs['psi']\n",
    "\n",
    "# load the same network as used for \n",
    "network = old_storage.networks['tps_network']\n",
    "final_step = old_storage.steps[-1]\n",
    "traj = final_step.active[0].trajectory\n",
    "\n",
    "\n",
    "template = traj[0]  # any snapshot is fine"
   ]
  },
  {
   "cell_type": "markdown",
   "metadata": {},
   "source": [
    "## TPS\n",
    "\n",
    "As always, the process for setting up a simulation is:\n",
    "\n",
    "1. Create a `network`\n",
    "2. Create a `move_scheme`\n",
    "3. Set up `initial_conditions`\n",
    "4. Create the `PathSampling` object and run it.\n",
    "\n",
    "We'll use the same network as before, but because our engine has changed (so that we output to a different directory) we need to create a new move scheme."
   ]
  },
  {
   "cell_type": "code",
   "execution_count": null,
   "metadata": {},
   "outputs": [],
   "source": [
    "scheme = paths.OneWayShootingMoveScheme(network,\n",
    "                                        selector=paths.UniformSelector(),\n",
    "                                        engine=engine).named(\"prod_scheme\")"
   ]
  },
  {
   "cell_type": "code",
   "execution_count": null,
   "metadata": {},
   "outputs": [],
   "source": [
    "initial_conditions = scheme.initial_conditions_from_trajectories(traj)"
   ]
  },
  {
   "cell_type": "code",
   "execution_count": null,
   "metadata": {},
   "outputs": [],
   "source": [
    "storage = Storage(\"storage_02.db\", mode='w')\n",
    "sampler = paths.PathSampling(storage=storage,\n",
    "                             move_scheme=scheme,\n",
    "                             sample_set=initial_conditions)"
   ]
  },
  {
   "cell_type": "code",
   "execution_count": null,
   "metadata": {},
   "outputs": [],
   "source": [
    "# This sets up debug-level for the engine logging, to provide additional information\n",
    "# about what is happening\n",
    "#import logging.config\n",
    "# set the path to your conf file\n",
    "#conf_file_loc = \"../../openpathsampling/resources/engine_debug.conf\"\n",
    "#logging.config.fileConfig(conf_file_loc, disable_existing_loggers=True)"
   ]
  },
  {
   "cell_type": "markdown",
   "metadata": {},
   "source": [
    "Note: 1000 steps will take a long time. If you just want to run a little bit, reduce this number."
   ]
  },
  {
   "cell_type": "code",
   "execution_count": null,
   "metadata": {},
   "outputs": [],
   "source": [
    "sampler.run(100)"
   ]
  },
  {
   "cell_type": "code",
   "execution_count": null,
   "metadata": {},
   "outputs": [],
   "source": [
    "# IF YOU HAVE AN ERROR: uncomment and run\n",
    "# engine.stop(None)\n",
    "# (this will stop the Gromacs process)"
   ]
  },
  {
   "cell_type": "code",
   "execution_count": null,
   "metadata": {},
   "outputs": [],
   "source": [
    "# IF YOU RE-RUN, DELETE EXISTING FILES AND RESTART THE NOTEBOOK\n",
    "#!rm -rf prod_trr prod_log prod_edr"
   ]
  },
  {
   "cell_type": "markdown",
   "metadata": {},
   "source": [
    "With this done, you can go on to do the flexible-length parts of the analysis in `alanine_dipeptide_tps_analysis.ipynb`."
   ]
  },
  {
   "cell_type": "code",
   "execution_count": null,
   "metadata": {},
   "outputs": [],
   "source": [
    "storage.close()"
   ]
  },
  {
   "cell_type": "code",
   "execution_count": null,
   "metadata": {},
   "outputs": [],
   "source": []
  }
 ],
 "metadata": {
  "kernelspec": {
   "display_name": "Python 3",
   "language": "python",
   "name": "python3"
  },
  "language_info": {
   "codemirror_mode": {
    "name": "ipython",
    "version": 3
   },
   "file_extension": ".py",
   "mimetype": "text/x-python",
   "name": "python",
   "nbconvert_exporter": "python",
   "pygments_lexer": "ipython3",
   "version": "3.8.5"
  },
  "toc": {
   "base_numbering": 1,
   "nav_menu": {},
   "number_sections": true,
   "sideBar": true,
   "skip_h1_title": true,
   "title_cell": "Table of Contents",
   "title_sidebar": "Contents",
   "toc_cell": false,
   "toc_position": {},
   "toc_section_display": true,
   "toc_window_display": false
  },
  "varInspector": {
   "cols": {
    "lenName": 16,
    "lenType": 16,
    "lenVar": 40
   },
   "kernels_config": {
    "python": {
     "delete_cmd_postfix": "",
     "delete_cmd_prefix": "del ",
     "library": "var_list.py",
     "varRefreshCmd": "print(var_dic_list())"
    },
    "r": {
     "delete_cmd_postfix": ") ",
     "delete_cmd_prefix": "rm(",
     "library": "var_list.r",
     "varRefreshCmd": "cat(var_dic_list()) "
    }
   },
   "types_to_exclude": [
    "module",
    "function",
    "builtin_function_or_method",
    "instance",
    "_Feature"
   ],
   "window_display": false
  }
 },
 "nbformat": 4,
 "nbformat_minor": 1
}
