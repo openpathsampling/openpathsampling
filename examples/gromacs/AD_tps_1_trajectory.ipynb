{
 "cells": [
  {
   "cell_type": "markdown",
   "metadata": {},
   "source": [
    "This is exactly the same as the OpenMM-based alanine dipeptide example, but this one uses Gromacs!"
   ]
  },
  {
   "cell_type": "markdown",
   "metadata": {},
   "source": [
    "## Imports"
   ]
  },
  {
   "cell_type": "code",
   "execution_count": null,
   "metadata": {},
   "outputs": [],
   "source": [
    "from __future__ import print_function\n",
    "%matplotlib inline\n",
    "import matplotlib.pyplot as plt\n",
    "import openpathsampling as paths\n",
    "\n",
    "import mdtraj as md\n",
    "import numpy as np"
   ]
  },
  {
   "cell_type": "code",
   "execution_count": null,
   "metadata": {},
   "outputs": [],
   "source": [
    "import openpathsampling as paths\n",
    "from openpathsampling.experimental.storage import monkey_patch_saving\n",
    "paths = monkey_patch_saving(paths)\n",
    "from openpathsampling.experimental.storage import Storage\n",
    "from openpathsampling.experimental.storage.collective_variables import MDTrajFunctionCV\n",
    "\n",
    "storage = Storage(\"storage_01.db\", mode='w')"
   ]
  },
  {
   "cell_type": "markdown",
   "metadata": {},
   "source": [
    "## Setting up the engine"
   ]
  },
  {
   "cell_type": "markdown",
   "metadata": {},
   "source": [
    "Now we set things up for the Gromacs simulation. Note that all the details are in the `mdp` file, just as always with Gromacs. Currently, we need to define a few options that reproduce some of the `mdp` file; in the future, that information may be read from the `mdp`."
   ]
  },
  {
   "cell_type": "code",
   "execution_count": null,
   "metadata": {},
   "outputs": [],
   "source": [
    "%%bash\n",
    "# remove files created by previous run of this notebook\n",
    "rm -rf hi_T*\n",
    "rm -rf equil_*\n",
    "rm -rf \\#*\n",
    "rm -rf initial_*.trr"
   ]
  },
  {
   "cell_type": "code",
   "execution_count": null,
   "metadata": {},
   "outputs": [],
   "source": [
    "options = {\n",
    "    'gmx_executable': 'gmx -nobackup ',   # run gmx how you like it!\n",
    "    'snapshot_timestep': 0.02,\n",
    "    'n_frames_max': 10000,\n",
    "    'mdrun_args': '-nt 8 ',\n",
    "}"
   ]
  },
  {
   "cell_type": "markdown",
   "metadata": {},
   "source": [
    "We set several entries in the options dictionary. Like all OPS engines, the options dictionary for Gromacs includes some important ones that you are likely to set:\n",
    "\n",
    "* `'snapshot_timestep'`: Time between output frames in the TRR. Defaults to 1 (setting unit of time to \"frames\"), but you probably want to set this to `dt * nstxout`. Setting this is optional, but can assist in several analysis routines.\n",
    "* `'n_frames_max'`: Maximum number of frames. This must be less than the corresponding `nsteps` entry in your Gromacs `mdp` file, otherwise Gromacs might end the trajectory before OPS tells it to, and this will leave OPS hanging. Don't forget that the `mdp`'s `nsteps` is in units of the inner timestep, whereas OPS's `n_frames_max` is in unit of saved frames. So `n_frames_max` should be less than `nsteps / nstxout`. (Usually, you set the max number of frames in OPS first, and make sure your `nsteps` corresponds.)\n",
    "\n",
    "There are also several options specific to Gromacs:\n",
    "\n",
    "* `'gmx_executable'`: This is the Gromacs command exactly as you need to call it. This allows you to, for example, use Gromacs in some specific path, or to use `gmx_mpi` instead of `gmx`. Note that, for modern Gromacs, this command should end in a space -- the subcommands `grompp` and `mdrun` do not automatically include a space.\n",
    "* `'grompp_args'`: A string with additional arguments for `grompp`.\n",
    "* `'mdrun_args'`: A string with additional arguments for `mdrun`.\n",
    "\n",
    "Finally, there are a few restrictions on your `mdp` file that you should be careful about:\n",
    "\n",
    "* `nsteps`: See discussion of `'n_frames_max'` above.\n",
    "* `nstxout`, `nstvout`, `nstenergy`: All of these should be equal to each other.\n",
    "* `integrator`: Path sampling should always use a reversible integrator; leapfrog-style integrators may be unstable."
   ]
  },
  {
   "cell_type": "code",
   "execution_count": null,
   "metadata": {},
   "outputs": [],
   "source": [
    "hi_T_engine = paths.engines.gromacs.Engine(gro=\"conf.gro\",\n",
    "                             mdp=\"hi_temp.mdp\",\n",
    "                             top=\"topol.top\",\n",
    "                             options=options,\n",
    "                             base_dir=\".\",\n",
    "                             prefix=\"hi_T\").named(\"500K\")"
   ]
  },
  {
   "cell_type": "markdown",
   "metadata": {},
   "source": [
    "There are several arguments for the engine as well. In addition to the `options` dictionary above, you'll need the `gro` argument (used for `grompp`'s `-c`; can be a `gro`, `pdb`, etc.), the `mdp`, and the `top`. There are two other arguments as well: `base_dir` sets the working directory for where to find the input files and place the output files, and `prefix` sets a prefix for the subdirectories where the output files goes (`trr`, `edr`, and `log`)."
   ]
  },
  {
   "cell_type": "markdown",
   "metadata": {},
   "source": [
    "Internally, the OPS Gromacs engine will fork off a Gromacs process, just as you would on the command line. You can see the exact commands that it will use (now with a few placeholder arguments for input/output filenames, but once the engine is running, this will show the exact command being used):"
   ]
  },
  {
   "cell_type": "code",
   "execution_count": null,
   "metadata": {},
   "outputs": [],
   "source": [
    "print(hi_T_engine.grompp_command)\n",
    "print(hi_T_engine.engine_command())"
   ]
  },
  {
   "cell_type": "markdown",
   "metadata": {},
   "source": [
    "The storage file will need a template snapshot."
   ]
  },
  {
   "cell_type": "code",
   "execution_count": null,
   "metadata": {},
   "outputs": [],
   "source": [
    "template = hi_T_engine.current_snapshot"
   ]
  },
  {
   "cell_type": "code",
   "execution_count": null,
   "metadata": {},
   "outputs": [],
   "source": [
    "template.topology"
   ]
  },
  {
   "cell_type": "markdown",
   "metadata": {},
   "source": [
    "## Defining states\n",
    "\n",
    "First we define the CVs using the `md.compute_dihedrals` function. Then we define our states using `PeriodicCVDefinedVolume` (since our CVs are periodic.)"
   ]
  },
  {
   "cell_type": "code",
   "execution_count": null,
   "metadata": {},
   "outputs": [],
   "source": [
    "# define the CVs\n",
    "psi = MDTrajFunctionCV(func=md.compute_dihedrals, topology=template.topology, indices=[[6,8,14,16]]).named(\"psi\")\n",
    "phi = MDTrajFunctionCV(func=md.compute_dihedrals, topology=template.topology, indices=[[4,6,8,14]]).named(\"phi\")"
   ]
  },
  {
   "cell_type": "code",
   "execution_count": null,
   "metadata": {},
   "outputs": [],
   "source": [
    "# define the states\n",
    "deg = 180.0/np.pi\n",
    "C_7eq = (paths.PeriodicCVDefinedVolume(phi, lambda_min=-180/deg, lambda_max=0/deg, \n",
    "                                     period_min=-np.pi, period_max=np.pi) &\n",
    "         paths.PeriodicCVDefinedVolume(psi, lambda_min=100/deg, lambda_max=200/deg,\n",
    "                                     period_min=-np.pi, period_max=np.pi)\n",
    "        ).named(\"C_7eq\")\n",
    "# similarly, without bothering with the labels:\n",
    "alpha_R = (paths.PeriodicCVDefinedVolume(phi, -180/deg, 0/deg, -np.pi, np.pi) &\n",
    "           paths.PeriodicCVDefinedVolume(psi, -100/deg, 0/deg, -np.pi, np.pi)).named(\"alpha_R\")"
   ]
  },
  {
   "cell_type": "markdown",
   "metadata": {},
   "source": [
    "## Getting a first trajectory\n",
    "\n",
    "Here we'll use the `VisitAllStatesEnsemble` to create a trajectory that has visited all states, using the high temperature engine. This approach is reasonable for 2-state TPS and multiple state TIS simulations. `VisitAllStatesEnsemble` is more than is needed for multiple state TPS, and isn't guaranteed to provide all the needed initial conditions for multiple interface set TIS.\n",
    "\n",
    "The underlying theory of the `VisitAllStatesEnsemble` is described in the OpenMM alanine dipeptide TPS example."
   ]
  },
  {
   "cell_type": "code",
   "execution_count": null,
   "metadata": {},
   "outputs": [],
   "source": [
    "visit_all = paths.VisitAllStatesEnsemble(states=[C_7eq, alpha_R], timestep=0.02)\n",
    "trajectory = hi_T_engine.generate(hi_T_engine.current_snapshot, [visit_all.can_append])"
   ]
  },
  {
   "cell_type": "code",
   "execution_count": null,
   "metadata": {},
   "outputs": [],
   "source": [
    "# create a network so we can use its ensemble to obtain an initial trajectory\n",
    "# use all-to-all because we don't care if initial traj is A->B or B->A: it can be reversed\n",
    "tmp_network = paths.TPSNetwork.from_states_all_to_all([C_7eq, alpha_R])"
   ]
  },
  {
   "cell_type": "code",
   "execution_count": null,
   "metadata": {},
   "outputs": [],
   "source": [
    "# take the subtrajectory matching the ensemble (for TPS only one ensemble, so only one subtraj)\n",
    "subtrajectories = []\n",
    "for ens in tmp_network.analysis_ensembles:\n",
    "    subtrajectories += ens.split(trajectory)\n",
    "print(subtrajectories)"
   ]
  },
  {
   "cell_type": "markdown",
   "metadata": {},
   "source": [
    "## Plotting the trajectory"
   ]
  },
  {
   "cell_type": "code",
   "execution_count": null,
   "metadata": {},
   "outputs": [],
   "source": [
    "plt.plot(phi(trajectory), psi(trajectory), 'k.-')\n",
    "plt.plot(phi(subtrajectories[0]), psi(subtrajectories[0]), 'r')"
   ]
  },
  {
   "cell_type": "markdown",
   "metadata": {},
   "source": [
    "## Setting up another engine\n",
    "\n",
    "We'll create another engine that uses a 300K integrator, and equilibrate to a 300K path from the 500K path."
   ]
  },
  {
   "cell_type": "code",
   "execution_count": null,
   "metadata": {},
   "outputs": [],
   "source": [
    "engine = paths.engines.gromacs.Engine(gro=\"conf.gro\",\n",
    "                        mdp=\"md.mdp\",\n",
    "                        top=\"topol.top\",\n",
    "                        options=options,\n",
    "                        base_dir=\".\",\n",
    "                        prefix=\"equil\").named(\"tps_equil\")"
   ]
  },
  {
   "cell_type": "markdown",
   "metadata": {},
   "source": [
    "## Equilibrate TPS\n",
    "\n",
    "This is, again, a simple path sampling setup. We use the same `TPSNetwork` we'll use later, and only shooting moves. One the initial conditions are correctly set up, we run one step at a time until the initial trajectory is decorrelated.\n",
    "\n",
    "This setup of a path sampler always consists of defining a `network` and a `move_scheme`. See toy model notebooks for further discussion."
   ]
  },
  {
   "cell_type": "code",
   "execution_count": null,
   "metadata": {},
   "outputs": [],
   "source": [
    "network = paths.TPSNetwork(initial_states=C_7eq, final_states=alpha_R).named(\"tps_network\")\n",
    "scheme = paths.OneWayShootingMoveScheme(network, \n",
    "                                        selector=paths.UniformSelector(),\n",
    "                                        engine=engine)"
   ]
  },
  {
   "cell_type": "code",
   "execution_count": null,
   "metadata": {},
   "outputs": [],
   "source": [
    "# make subtrajectories into initial conditions (trajectories become a sampleset)\n",
    "initial_conditions = scheme.initial_conditions_from_trajectories(subtrajectories)"
   ]
  },
  {
   "cell_type": "code",
   "execution_count": null,
   "metadata": {},
   "outputs": [],
   "source": [
    "# check that initial conditions are valid and complete (raise AssertionError otherwise)\n",
    "scheme.assert_initial_conditions(initial_conditions)"
   ]
  },
  {
   "cell_type": "code",
   "execution_count": null,
   "metadata": {},
   "outputs": [],
   "source": [
    "# use an empty background\n",
    "(fig, ax) = plt.subplots()\n",
    "plt.xlim(-np.pi, np.pi)\n",
    "plt.ylim(-np.pi, np.pi);"
   ]
  },
  {
   "cell_type": "code",
   "execution_count": null,
   "metadata": {},
   "outputs": [],
   "source": [
    "sampler = paths.PathSampling(storage=storage,\n",
    "                             move_scheme=scheme,\n",
    "                             sample_set=initial_conditions)\n",
    "sampler.live_visualizer = paths.StepVisualizer2D(network, phi, psi, [-np.pi, np.pi], [-np.pi, np.pi])\n",
    "sampler.live_visualizer.background = fig"
   ]
  },
  {
   "cell_type": "code",
   "execution_count": null,
   "metadata": {},
   "outputs": [],
   "source": [
    "# initially, these trajectories are correlated (actually, identical)\n",
    "# once decorrelated, we have a (somewhat) reasonable 300K trajectory\n",
    "initial_conditions[0].trajectory.is_correlated(sampler.sample_set[0].trajectory)"
   ]
  },
  {
   "cell_type": "code",
   "execution_count": null,
   "metadata": {},
   "outputs": [],
   "source": [
    "# this is a trick to take the first decorrelated trajectory\n",
    "sampler.run_until_decorrelated()"
   ]
  },
  {
   "cell_type": "code",
   "execution_count": null,
   "metadata": {},
   "outputs": [],
   "source": [
    "# run an extra 10 to decorrelate a little futher\n",
    "sampler.run(10)"
   ]
  },
  {
   "cell_type": "markdown",
   "metadata": {},
   "source": [
    "From here, you can either extend this to a longer trajectory for the fixed length TPS in the `alanine_dipeptide_fixed_tps_traj.ipynb` notebook, or go straight to flexible length TPS in the `alanine_dipeptide_tps_run.ipynb` notebook."
   ]
  },
  {
   "cell_type": "code",
   "execution_count": null,
   "metadata": {},
   "outputs": [],
   "source": [
    "storage.close()"
   ]
  },
  {
   "cell_type": "code",
   "execution_count": null,
   "metadata": {},
   "outputs": [],
   "source": [
    "print(storage.summary())"
   ]
  },
  {
   "cell_type": "code",
   "execution_count": null,
   "metadata": {},
   "outputs": [],
   "source": []
  }
 ],
 "metadata": {
  "kernelspec": {
   "display_name": "Python 3",
   "language": "python",
   "name": "python3"
  },
  "language_info": {
   "codemirror_mode": {
    "name": "ipython",
    "version": 3
   },
   "file_extension": ".py",
   "mimetype": "text/x-python",
   "name": "python",
   "nbconvert_exporter": "python",
   "pygments_lexer": "ipython3",
   "version": "3.8.5"
  },
  "toc": {
   "base_numbering": 1,
   "nav_menu": {},
   "number_sections": true,
   "sideBar": true,
   "skip_h1_title": true,
   "title_cell": "Table of Contents",
   "title_sidebar": "Contents",
   "toc_cell": false,
   "toc_position": {},
   "toc_section_display": true,
   "toc_window_display": true
  },
  "varInspector": {
   "cols": {
    "lenName": 16,
    "lenType": 16,
    "lenVar": 40
   },
   "kernels_config": {
    "python": {
     "delete_cmd_postfix": "",
     "delete_cmd_prefix": "del ",
     "library": "var_list.py",
     "varRefreshCmd": "print(var_dic_list())"
    },
    "r": {
     "delete_cmd_postfix": ") ",
     "delete_cmd_prefix": "rm(",
     "library": "var_list.r",
     "varRefreshCmd": "cat(var_dic_list()) "
    }
   },
   "types_to_exclude": [
    "module",
    "function",
    "builtin_function_or_method",
    "instance",
    "_Feature"
   ],
   "window_display": false
  }
 },
 "nbformat": 4,
 "nbformat_minor": 1
}
