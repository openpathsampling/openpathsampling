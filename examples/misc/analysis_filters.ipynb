{
 "cells": [
  {
   "cell_type": "markdown",
   "id": "9bdff72b",
   "metadata": {},
   "source": [
    "# Analysis filters and extractors\n",
    "\n"
   ]
  },
  {
   "cell_type": "code",
   "execution_count": 1,
   "id": "38ac14ce",
   "metadata": {},
   "outputs": [],
   "source": [
    "import openpathsampling as paths\n",
    "from openpathsampling.experimental.storage import Storage, monkey_patch_all\n",
    "paths = monkey_patch_all(paths)\n",
    "\n",
    "from tqdm.auto import tqdm"
   ]
  },
  {
   "cell_type": "code",
   "execution_count": 2,
   "id": "b8e87f34",
   "metadata": {},
   "outputs": [],
   "source": [
    "from openpathsampling.analysis.filters import *"
   ]
  },
  {
   "cell_type": "code",
   "execution_count": 3,
   "id": "1af33fa8",
   "metadata": {},
   "outputs": [],
   "source": [
    "storage = Storage(\"./oneway.db\", mode='r')"
   ]
  },
  {
   "cell_type": "markdown",
   "id": "dca3c676",
   "metadata": {},
   "source": [
    "## Condition filters\n",
    "\n",
    "Condition filters are associated with a condition that they test. We'll start by looking at the `RejectedSteps` condition filter, which (surprise!) checks whether a step was rejected."
   ]
  },
  {
   "cell_type": "code",
   "execution_count": 4,
   "id": "f42661a9",
   "metadata": {},
   "outputs": [
    {
     "data": {
      "text/plain": [
       "False"
      ]
     },
     "execution_count": 4,
     "metadata": {},
     "output_type": "execute_result"
    }
   ],
   "source": [
    "rejected_steps.condition(storage.steps[0])"
   ]
  },
  {
   "cell_type": "markdown",
   "id": "ea004891",
   "metadata": {},
   "source": [
    "The initial condition is always accepted.\n",
    "\n",
    "We can also use `RejectedSteps` as a filter on steps."
   ]
  },
  {
   "cell_type": "code",
   "execution_count": 5,
   "id": "0127b9c1",
   "metadata": {},
   "outputs": [],
   "source": [
    "for step in rejected_steps(storage.steps):\n",
    "    ...  # here is where you might do something to analyze rejection reasons"
   ]
  },
  {
   "cell_type": "code",
   "execution_count": 6,
   "id": "a2f7bf35",
   "metadata": {},
   "outputs": [
    {
     "data": {
      "text/plain": [
       "559"
      ]
     },
     "execution_count": 6,
     "metadata": {},
     "output_type": "execute_result"
    }
   ],
   "source": [
    "# we can use some basic Python to get a quick count of accepted steps\n",
    "len(list(accepted_steps(storage.steps)))"
   ]
  },
  {
   "cell_type": "markdown",
   "id": "9201a322",
   "metadata": {},
   "source": [
    "This needs to be wrapped in a list because internally we're using generators. This means that we don't create the full list of objects, which can be useful if the object takes significant space in memory.\n",
    "\n",
    "Next we'll wrap the generator in `tqdm`, which will give us a progress bar to show how much has been processed. Obviously, making a Python list out of existing objects and getting its length is much faster than loading our shooting points from storage!"
   ]
  },
  {
   "cell_type": "code",
   "execution_count": 7,
   "id": "9e36d9d1",
   "metadata": {},
   "outputs": [
    {
     "data": {
      "application/vnd.jupyter.widget-view+json": {
       "model_id": "e597aa9213834d4eb202139159d3f2c6",
       "version_major": 2,
       "version_minor": 0
      },
      "text/plain": [
       "0it [00:00, ?it/s]"
      ]
     },
     "metadata": {},
     "output_type": "display_data"
    },
    {
     "data": {
      "text/plain": [
       "1000"
      ]
     },
     "execution_count": 7,
     "metadata": {},
     "output_type": "execute_result"
    }
   ],
   "source": [
    "len(list(tqdm(shooting_steps(storage.steps))))"
   ]
  },
  {
   "cell_type": "markdown",
   "id": "a2f56209",
   "metadata": {},
   "source": [
    "`RejectedSteps`, `AcceptedSteps`, and `ShootingSteps` are filters on steps; we also have condition filters on samples:"
   ]
  },
  {
   "cell_type": "code",
   "execution_count": 8,
   "id": "6ca0ea0d",
   "metadata": {},
   "outputs": [],
   "source": [
    "sample = storage.steps[0].active[0]"
   ]
  },
  {
   "cell_type": "code",
   "execution_count": 9,
   "id": "9c7bad6f",
   "metadata": {},
   "outputs": [
    {
     "data": {
      "text/plain": [
       "False"
      ]
     },
     "execution_count": 9,
     "metadata": {},
     "output_type": "execute_result"
    }
   ],
   "source": [
    "replica(1).condition(sample)"
   ]
  },
  {
   "cell_type": "code",
   "execution_count": 10,
   "id": "0841e193",
   "metadata": {},
   "outputs": [
    {
     "data": {
      "text/plain": [
       "True"
      ]
     },
     "execution_count": 10,
     "metadata": {},
     "output_type": "execute_result"
    }
   ],
   "source": [
    "replica(0).condition(sample)"
   ]
  },
  {
   "cell_type": "markdown",
   "id": "e5c1d935",
   "metadata": {},
   "source": [
    "## Combining condition filters\n",
    "\n",
    "We can use logical combinations of condition filters to make much more complicated filters:"
   ]
  },
  {
   "cell_type": "code",
   "execution_count": 11,
   "id": "9fd153b9",
   "metadata": {},
   "outputs": [
    {
     "data": {
      "text/plain": [
       "1001"
      ]
     },
     "execution_count": 11,
     "metadata": {},
     "output_type": "execute_result"
    }
   ],
   "source": [
    "custom_filter = accepted_steps | rejected_steps\n",
    "len(list(custom_filter(storage.steps)))"
   ]
  },
  {
   "cell_type": "code",
   "execution_count": 12,
   "id": "e41a79b0",
   "metadata": {
    "scrolled": true
   },
   "outputs": [
    {
     "data": {
      "text/plain": [
       "153"
      ]
     },
     "execution_count": 12,
     "metadata": {},
     "output_type": "execute_result"
    }
   ],
   "source": [
    "custom_filter = rejected_steps & canonical_mover('ForwardShootMover')\n",
    "len(list(custom_filter(storage.steps)))"
   ]
  },
  {
   "cell_type": "markdown",
   "id": "5c615f29",
   "metadata": {},
   "source": [
    "`CanonicalMover` is another step-wise condition filter, but you can define the mover with either an instance of a `PathMover`, a subclass of `PathMover`, or the string name of a `PathMover` subclass. If you provide a specific instance, it will filter for only that instance. If you give a class or the name of a class, it will filter for all movers in that class."
   ]
  },
  {
   "cell_type": "markdown",
   "id": "e7cf5506",
   "metadata": {},
   "source": [
    "These combinations can be arbitrarily complex (but remember boolean order of operations -- `&` has higher precedence than `|` -- or use parentheses!):"
   ]
  },
  {
   "cell_type": "code",
   "execution_count": 13,
   "id": "6332cfad",
   "metadata": {},
   "outputs": [
    {
     "data": {
      "text/plain": [
       "337"
      ]
     },
     "execution_count": 13,
     "metadata": {},
     "output_type": "execute_result"
    }
   ],
   "source": [
    "custom_filter = (\n",
    "    rejected_steps & canonical_mover('ForwardShootMover')\n",
    "    | accepted_steps & canonical_mover('BackwardShootMover')\n",
    ")\n",
    "len(list(custom_filter(storage.steps)))"
   ]
  },
  {
   "cell_type": "code",
   "execution_count": 14,
   "id": "7f62f4ff",
   "metadata": {},
   "outputs": [
    {
     "data": {
      "text/plain": [
       "0"
      ]
     },
     "execution_count": 14,
     "metadata": {},
     "output_type": "execute_result"
    }
   ],
   "source": [
    "# bad parens here give inherent contradiction\n",
    "custom_filter = (\n",
    "    rejected_steps \n",
    "    & (canonical_mover('ForwardShootMover') | accepted_steps)\n",
    "    & canonical_mover('BackwardShootMover')\n",
    ")\n",
    "len(list(custom_filter(storage.steps)))"
   ]
  },
  {
   "cell_type": "markdown",
   "id": "e89dcf78",
   "metadata": {},
   "source": [
    "So far, if you combine different stages, you'll get an error. We'd love to get the code smart enough to sort that out for you, for now you have to keep track of which filters are for steps and which are for samples. As a hint, a sample can only filter on ensemble, replica, or trajectory."
   ]
  },
  {
   "cell_type": "code",
   "execution_count": 15,
   "id": "65928ae7",
   "metadata": {
    "scrolled": true
   },
   "outputs": [],
   "source": [
    "# rejectedSteps & replica(0)"
   ]
  },
  {
   "cell_type": "markdown",
   "id": "889190a9",
   "metadata": {},
   "source": [
    "## Extractors\n",
    "\n",
    "Extractors extract a specific piece of information from the `MCStep` object. For example, there is the `TrialSamples` extractor, which extracts trials from the canonical move change:"
   ]
  },
  {
   "cell_type": "code",
   "execution_count": 16,
   "id": "a764a0cf",
   "metadata": {},
   "outputs": [
    {
     "data": {
      "text/plain": [
       "[<Sample @ 0x7f954cc372d0>]"
      ]
     },
     "execution_count": 16,
     "metadata": {},
     "output_type": "execute_result"
    }
   ],
   "source": [
    "trial_samples(storage.steps[1])"
   ]
  },
  {
   "cell_type": "code",
   "execution_count": 17,
   "id": "3de4dd99",
   "metadata": {},
   "outputs": [
    {
     "data": {
      "text/plain": [
       "<openpathsampling.engines.toy.snapshot.ToySnapshot at 0x7f954cc6ae90>"
      ]
     },
     "execution_count": 17,
     "metadata": {},
     "output_type": "execute_result"
    }
   ],
   "source": [
    "shooting_points(storage.steps[3])"
   ]
  },
  {
   "cell_type": "markdown",
   "id": "ecefe57a",
   "metadata": {},
   "source": [
    "## Extractor Filters"
   ]
  },
  {
   "cell_type": "markdown",
   "id": "2f5bc276",
   "metadata": {},
   "source": [
    "A very common practice in analysis would involve looping over steps (filtered by a step filter), extracting samples (e.g., trial samples or active samples) from that step, and then looping over those samples:"
   ]
  },
  {
   "cell_type": "code",
   "execution_count": 18,
   "id": "516fe25e",
   "metadata": {},
   "outputs": [],
   "source": [
    "replica_0_filter = replica(0)\n",
    "for step in rejected_steps(storage.steps):\n",
    "    samples = trial_samples(step)\n",
    "    for sample in replica_0_filter(samples):\n",
    "        ... # do something with each sample"
   ]
  },
  {
   "cell_type": "markdown",
   "id": "46072e11",
   "metadata": {},
   "source": [
    "Since this is really common, we have created extractor-filters that do that for you. You can create an extractor-filter from an extractor with its `using` method. For the secondary filter (which is a sample filter here) you can chain on the `.with_filter` method."
   ]
  },
  {
   "cell_type": "code",
   "execution_count": 19,
   "id": "e530562e",
   "metadata": {},
   "outputs": [],
   "source": [
    "ext_filt = trial_samples.using(rejected_steps).with_filter(replica(0))\n",
    "for sample in ext_filt(storage.steps):\n",
    "    ... # so easy!"
   ]
  },
  {
   "cell_type": "markdown",
   "id": "e813cc66",
   "metadata": {},
   "source": [
    "Trial samples is an example of an extractor that returns multiple items -- for some moves, like replica exchange, there are multiple trials. By default, the extractor-filter will \"flatten\" this, so that you see a single stream of all the extracted results. If you don't want this; if you instead want each step to represent a list, you can pass `flatten=False` to the extractor-filter:"
   ]
  },
  {
   "cell_type": "code",
   "execution_count": 20,
   "id": "a61e01a0",
   "metadata": {},
   "outputs": [
    {
     "data": {
      "text/plain": [
       "[<Sample @ 0x7f954cc36f10>, <Sample @ 0x7f954d67c150>]"
      ]
     },
     "execution_count": 20,
     "metadata": {},
     "output_type": "execute_result"
    }
   ],
   "source": [
    "steps = list(storage.steps)[:10]\n",
    "list(ext_filt(steps))"
   ]
  },
  {
   "cell_type": "code",
   "execution_count": 21,
   "id": "5afef4eb",
   "metadata": {},
   "outputs": [
    {
     "data": {
      "text/plain": [
       "[[<Sample @ 0x7f954cc36f10>], [<Sample @ 0x7f954d67c150>]]"
      ]
     },
     "execution_count": 21,
     "metadata": {},
     "output_type": "execute_result"
    }
   ],
   "source": [
    "list(ext_filt(steps, flatten=False))"
   ]
  },
  {
   "cell_type": "markdown",
   "id": "0df6b135",
   "metadata": {},
   "source": [
    "### Extractor Filter Syntax\n",
    "\n",
    "```python\n",
    "ef = Extractor.using(StepFilter).with_filter(secondary_filter)\n",
    "for obj in ef(steps):\n",
    "    ...\n",
    "    \n",
    "# or\n",
    "for obj in Extractor.using(StepFilter, steps=steps):\n",
    "    ...\n",
    "```\n",
    "\n",
    "`StepFilter` is optional there; if not used, the default filter is `AllSteps`. `with_filter` is only valid if `Extractor` returns lists. The first notation is preferable for more complicated extractor-filters; the second is preferable for simple ones. As an example of a simple one:\n",
    "\n",
    "```python\n",
    "for obj in ShootingPoints.using(steps=steps):\n",
    "    # gives None if no shooting point; use ShootingSteps to filter that out\n",
    "    ...\n",
    "```"
   ]
  },
  {
   "cell_type": "markdown",
   "id": "7fbeaf58",
   "metadata": {},
   "source": [
    "## Predefined objects\n",
    "\n",
    "### Extractors\n",
    "\n",
    "* `ShootingPoints`\n",
    "* `ActiveSamples`\n",
    "* `TrialSamples`\n",
    "* `ActiveEnsembles`\n",
    "* canonical mover?\n",
    "* `CanonicalDetails(detail_name)`\n",
    "\n",
    "### Step Filters\n",
    "\n",
    "* `AllSteps`\n",
    "* `AcceptedSteps`\n",
    "* `RejectedSteps`\n",
    "* `CanonicalMover(mover)`\n",
    "* `ShootingSteps`\n",
    "* `TrialEnsemble(ensemble)`\n",
    "* `TrialReplica(replica)`\n",
    "\n",
    "### Secondary filters: Samples\n",
    "\n",
    "* `Replica(replica)`\n",
    "* `Ensemble(ensemble)`"
   ]
  },
  {
   "cell_type": "markdown",
   "id": "f56d027e",
   "metadata": {},
   "source": [
    "## Custom Objects\n",
    "\n",
    "### Extractors\n",
    "\n",
    "For most cases, where you extract a single item (i.e., where you won't need a secondary filter), you can make your extractor as an instance of `Extractor`. For example, information about timing is stored in the root change of the move. You write a function to extract that:"
   ]
  },
  {
   "cell_type": "code",
   "execution_count": 22,
   "id": "b4c8d1f5",
   "metadata": {},
   "outputs": [],
   "source": [
    "def get_timing(step):\n",
    "    try:\n",
    "        return step.change.details.timing\n",
    "    except AttributeError:\n",
    "        return NOT_EXTRACTED"
   ]
  },
  {
   "cell_type": "markdown",
   "id": "5b101b2f",
   "metadata": {},
   "source": [
    "Note that this checks for an attribute error. That's because the initial conditions step doesn't have this information. With an `Extractor`, if the information you're seeking doesn't exist, you should return the constant object `filters.NOT_EXTRACTED`. If `flatten` is `True`, the extractor-filter will ignore this value. If `flatten` is false, the value for this step will be `filters.NOT_EXTRACTED`."
   ]
  },
  {
   "cell_type": "code",
   "execution_count": 23,
   "id": "25c6e700",
   "metadata": {},
   "outputs": [],
   "source": [
    "timing = Extractor(get_timing, name=\"Timing\")"
   ]
  },
  {
   "cell_type": "code",
   "execution_count": 24,
   "id": "9c581d46",
   "metadata": {},
   "outputs": [],
   "source": [
    "timing_ef = timing.using(all_steps)\n",
    "all_timings = list(timing_ef(storage.steps))"
   ]
  },
  {
   "cell_type": "markdown",
   "id": "254f45ba",
   "metadata": {},
   "source": [
    "### Step Filters\n",
    "\n",
    "Custom step filters are easy to implement using the `StepFilter` class. Just create a function that you can pass to the `condition`, and optionally a name.\n",
    "\n",
    "For example, let's say we wanted to select steps where the CV named `'x'`, when applied to the shooting point, was less than 0.0."
   ]
  },
  {
   "cell_type": "code",
   "execution_count": 25,
   "id": "8e79531d",
   "metadata": {},
   "outputs": [],
   "source": [
    "cv = storage.cvs['x']\n",
    "\n",
    "def condition(step):\n",
    "    sp = shooting_points(step)\n",
    "    if sp is NOT_EXTRACTED:\n",
    "        return False\n",
    "    return cv(sp) < 0.0"
   ]
  },
  {
   "cell_type": "code",
   "execution_count": 26,
   "id": "be6f7885",
   "metadata": {},
   "outputs": [],
   "source": [
    "custom_filter = StepFilter(condition, 'my condition')"
   ]
  },
  {
   "cell_type": "code",
   "execution_count": 27,
   "id": "01f5bc58",
   "metadata": {},
   "outputs": [
    {
     "data": {
      "text/plain": [
       "423"
      ]
     },
     "execution_count": 27,
     "metadata": {},
     "output_type": "execute_result"
    }
   ],
   "source": [
    "len(list(custom_filter(storage.steps)))"
   ]
  },
  {
   "cell_type": "markdown",
   "id": "6f4e3cfc",
   "metadata": {},
   "source": [
    "## Use scenario\n",
    "\n",
    "For some reason replica 0 is having a lot of rejected backward shots. I want to look at those shooting point snapshots.\n",
    "\n",
    "The old way: (see http://openpathsampling.org/latest/topics/data_objects.html)\n",
    "\n",
    "```python\n",
    "for step in steps:\n",
    "    canonical = step.change.canonical\n",
    "    if step.change.accepted:\n",
    "        continue\n",
    "        \n",
    "    if not isinstance(canonical.mover, paths.BackwardShootMover):\n",
    "        continue\n",
    "\n",
    "    try:\n",
    "        rep0 = paths.SampleSet(canonical.trials)[0]\n",
    "    except KeyError:\n",
    "        continue\n",
    "        \n",
    "    shooting_snap = canonical.details.shooting_snapshot\n",
    "    ... # do stuff with shooting_snap\n",
    "```"
   ]
  },
  {
   "cell_type": "markdown",
   "id": "633ab3b9",
   "metadata": {},
   "source": [
    "The new way:\n",
    "\n",
    "```python\n",
    "extractor = ShootingPoints.using(RejectedSteps\n",
    "                                 & CanonicalMover('BackwardShootMover')\n",
    "                                 & TrialReplica(0))\n",
    "for shooting_snap in extractor(steps):\n",
    "    ...  # do stuff with shooting_snap\n",
    "```\n",
    "\n",
    "With these, you no longer need to worry about the hierarchical structure that OPS uses to store data -- you create a description of what you want to extract, and you get it!"
   ]
  },
  {
   "cell_type": "code",
   "execution_count": null,
   "id": "2806e040",
   "metadata": {},
   "outputs": [],
   "source": []
  },
  {
   "cell_type": "code",
   "execution_count": null,
   "id": "b61e77a6",
   "metadata": {},
   "outputs": [],
   "source": []
  },
  {
   "cell_type": "markdown",
   "id": "a278383e",
   "metadata": {},
   "source": [
    "Other ideas (to be listed in documentation):\n",
    "\n",
    "```python\n",
    "unique_samples = TrialSamples.using(AcceptedSteps)\n",
    "for sample in unique_samples(storage.steps):\n",
    "    ...\n",
    "```\n",
    "\n",
    "\n",
    "```python\n",
    "one_way = CanonicalMover('ForwardShootMover') | CanonicalMover('BackwardShootMover')\n",
    "extract = ActiveSamples.using(AcceptedSteps & one_way).with_filter(Ensemble(ens1) | Ensemble(ens2))\n",
    "for sample in extract(storage.steps):\n",
    "    ...\n",
    "```\n",
    "\n",
    "\n",
    "```python\n",
    "# track which ensemble a specific replica was associated with at each step\n",
    "follow_replica = ActiveSamples.using(AllSteps).with_filter(Replica(0))\n",
    "trace = [sample.ensemble for sample in follow_replica(storage.steps)]\n",
    "```"
   ]
  },
  {
   "cell_type": "code",
   "execution_count": null,
   "id": "76adc836",
   "metadata": {},
   "outputs": [],
   "source": []
  },
  {
   "cell_type": "code",
   "execution_count": null,
   "id": "6f540903",
   "metadata": {},
   "outputs": [],
   "source": []
  }
 ],
 "metadata": {
  "kernelspec": {
   "display_name": "Python 3",
   "language": "python",
   "name": "python3"
  },
  "language_info": {
   "codemirror_mode": {
    "name": "ipython",
    "version": 3
   },
   "file_extension": ".py",
   "mimetype": "text/x-python",
   "name": "python",
   "nbconvert_exporter": "python",
   "pygments_lexer": "ipython3",
   "version": "3.7.10"
  },
  "toc": {
   "base_numbering": 1,
   "nav_menu": {},
   "number_sections": true,
   "sideBar": true,
   "skip_h1_title": true,
   "title_cell": "Table of Contents",
   "title_sidebar": "Contents",
   "toc_cell": false,
   "toc_position": {},
   "toc_section_display": true,
   "toc_window_display": false
  },
  "varInspector": {
   "cols": {
    "lenName": 16,
    "lenType": 16,
    "lenVar": 40
   },
   "kernels_config": {
    "python": {
     "delete_cmd_postfix": "",
     "delete_cmd_prefix": "del ",
     "library": "var_list.py",
     "varRefreshCmd": "print(var_dic_list())"
    },
    "r": {
     "delete_cmd_postfix": ") ",
     "delete_cmd_prefix": "rm(",
     "library": "var_list.r",
     "varRefreshCmd": "cat(var_dic_list()) "
    }
   },
   "types_to_exclude": [
    "module",
    "function",
    "builtin_function_or_method",
    "instance",
    "_Feature"
   ],
   "window_display": false
  },
  "widgets": {
   "application/vnd.jupyter.widget-state+json": {
    "state": {
     "0030e66af30c4f6daa06240d96764707": {
      "model_module": "@jupyter-widgets/base",
      "model_module_version": "1.2.0",
      "model_name": "LayoutModel",
      "state": {
       "width": "20px"
      }
     },
     "00a0f92272e94385b81919f297ad6747": {
      "model_module": "@jupyter-widgets/base",
      "model_module_version": "1.2.0",
      "model_name": "LayoutModel",
      "state": {}
     },
     "02d2f469c58d47bda03a706bc2425eaa": {
      "model_module": "@jupyter-widgets/controls",
      "model_module_version": "1.5.0",
      "model_name": "DescriptionStyleModel",
      "state": {
       "description_width": ""
      }
     },
     "0355dd9e363f4b759a27b1b1e36b9f17": {
      "model_module": "@jupyter-widgets/base",
      "model_module_version": "1.2.0",
      "model_name": "LayoutModel",
      "state": {}
     },
     "040c0e28d5c744a3b91db28550802b51": {
      "model_module": "@jupyter-widgets/controls",
      "model_module_version": "1.5.0",
      "model_name": "ProgressStyleModel",
      "state": {
       "description_width": ""
      }
     },
     "04a08c716c534cd0891d34854de359fc": {
      "model_module": "@jupyter-widgets/base",
      "model_module_version": "1.2.0",
      "model_name": "LayoutModel",
      "state": {}
     },
     "04d65f3b3ca74dc5b196fa5d4e70c88c": {
      "model_module": "@jupyter-widgets/controls",
      "model_module_version": "1.5.0",
      "model_name": "ProgressStyleModel",
      "state": {
       "description_width": ""
      }
     },
     "090fade9c75a4c5d816908387730b5ec": {
      "model_module": "@jupyter-widgets/controls",
      "model_module_version": "1.5.0",
      "model_name": "DescriptionStyleModel",
      "state": {
       "description_width": ""
      }
     },
     "0c89289fee8e43fcbe326b6a81e457d8": {
      "model_module": "@jupyter-widgets/controls",
      "model_module_version": "1.5.0",
      "model_name": "DescriptionStyleModel",
      "state": {
       "description_width": ""
      }
     },
     "11adeeccd9ae4f2cba099d22f2ebbcdd": {
      "model_module": "@jupyter-widgets/controls",
      "model_module_version": "1.5.0",
      "model_name": "DescriptionStyleModel",
      "state": {
       "description_width": ""
      }
     },
     "11b9d67b5e3b4c8a8ce9fbe631dae0c1": {
      "model_module": "@jupyter-widgets/controls",
      "model_module_version": "1.5.0",
      "model_name": "FloatProgressModel",
      "state": {
       "bar_style": "success",
       "layout": "IPY_MODEL_cb1c52aa8f5f40afa4aab3f2b7c7beb4",
       "max": 1,
       "style": "IPY_MODEL_bcca9f8e2d3f4e8389227039afc6ae08",
       "value": 1
      }
     },
     "126eb8315afb482483cca7ea30d1f6e4": {
      "model_module": "@jupyter-widgets/base",
      "model_module_version": "1.2.0",
      "model_name": "LayoutModel",
      "state": {
       "width": "20px"
      }
     },
     "1321d5c797a84d4b990f3ffbc8a5d2fe": {
      "model_module": "@jupyter-widgets/controls",
      "model_module_version": "1.5.0",
      "model_name": "HBoxModel",
      "state": {
       "children": [
        "IPY_MODEL_7b45830b2fe64e7ba2cec42b9ec10e0d",
        "IPY_MODEL_a7cdc777148740e0b33df7fce5fdda31",
        "IPY_MODEL_a03e899f9c09463f87dc32822534ba78"
       ],
       "layout": "IPY_MODEL_30111cea80694a51870c8ab5148fef2f"
      }
     },
     "147b922419fa4d53b1c7e12fc7088d2c": {
      "model_module": "@jupyter-widgets/base",
      "model_module_version": "1.2.0",
      "model_name": "LayoutModel",
      "state": {}
     },
     "15e308ba5a9c4d05b9dddf4aeebf7cdc": {
      "model_module": "@jupyter-widgets/controls",
      "model_module_version": "1.5.0",
      "model_name": "DescriptionStyleModel",
      "state": {
       "description_width": ""
      }
     },
     "16469f5c27cc4b75b0418fb95ca68852": {
      "model_module": "@jupyter-widgets/controls",
      "model_module_version": "1.5.0",
      "model_name": "DescriptionStyleModel",
      "state": {
       "description_width": ""
      }
     },
     "170e474f81804d19be9bb5bbb6fa0823": {
      "model_module": "@jupyter-widgets/controls",
      "model_module_version": "1.5.0",
      "model_name": "HTMLModel",
      "state": {
       "layout": "IPY_MODEL_8d7a1ed2746f4a4ea7c1933af17f2f32",
       "style": "IPY_MODEL_806570cf405a46cbbae68d0465a10002",
       "value": " 1000/? [00:07&lt;00:00, 136.67it/s]"
      }
     },
     "1b3ff651581a4fbd83586be3f5cd11c7": {
      "model_module": "@jupyter-widgets/controls",
      "model_module_version": "1.5.0",
      "model_name": "FloatProgressModel",
      "state": {
       "bar_style": "success",
       "layout": "IPY_MODEL_e73981244646490688bd483ba7da1bc3",
       "max": 1,
       "style": "IPY_MODEL_b8e8ef32896849d1b986c89ab672f4fa",
       "value": 1
      }
     },
     "1b9aeec9b25547879820fa24ec2e82c1": {
      "model_module": "@jupyter-widgets/base",
      "model_module_version": "1.2.0",
      "model_name": "LayoutModel",
      "state": {
       "width": "20px"
      }
     },
     "1f030952fb564c49ac8f5ee620c45003": {
      "model_module": "@jupyter-widgets/controls",
      "model_module_version": "1.5.0",
      "model_name": "DescriptionStyleModel",
      "state": {
       "description_width": ""
      }
     },
     "2081ace23d8b4e54a612e9f9df55de42": {
      "model_module": "@jupyter-widgets/base",
      "model_module_version": "1.2.0",
      "model_name": "LayoutModel",
      "state": {}
     },
     "21b6a46ec01d41b19490da564cf93fd2": {
      "model_module": "@jupyter-widgets/base",
      "model_module_version": "1.2.0",
      "model_name": "LayoutModel",
      "state": {}
     },
     "2425980b82954a5790a21dfde70487b8": {
      "model_module": "@jupyter-widgets/controls",
      "model_module_version": "1.5.0",
      "model_name": "FloatProgressModel",
      "state": {
       "bar_style": "success",
       "layout": "IPY_MODEL_410cf20d367341ed86077d35a50c7921",
       "max": 1,
       "style": "IPY_MODEL_04d65f3b3ca74dc5b196fa5d4e70c88c",
       "value": 1
      }
     },
     "27a9c28202644bdf9d4b6d58ea039210": {
      "model_module": "@jupyter-widgets/controls",
      "model_module_version": "1.5.0",
      "model_name": "HBoxModel",
      "state": {
       "children": [
        "IPY_MODEL_4d700adbf2d346fca75527e6951946bf",
        "IPY_MODEL_ccff976bea5b4e6ea0315f1b95016b53",
        "IPY_MODEL_37ed390251cb4339a6a9e63ff9960c6c"
       ],
       "layout": "IPY_MODEL_9e97a7efc0ba4aa9ba3f211d63a3037f"
      }
     },
     "27cc256f3eaf44d9b88e1c540e64bc2b": {
      "model_module": "@jupyter-widgets/controls",
      "model_module_version": "1.5.0",
      "model_name": "FloatProgressModel",
      "state": {
       "bar_style": "success",
       "layout": "IPY_MODEL_bb14afb98a594254a2ea8c0c23458212",
       "max": 1,
       "style": "IPY_MODEL_d792a0f47c974e1381ad72e870d21c8f",
       "value": 1
      }
     },
     "2cd574d3251146b8811ce61cc1c3d5df": {
      "model_module": "@jupyter-widgets/controls",
      "model_module_version": "1.5.0",
      "model_name": "HTMLModel",
      "state": {
       "layout": "IPY_MODEL_646f81fadb8d464aac77b223e25dce74",
       "style": "IPY_MODEL_72bd5488b667497693cf659642fdb8a3",
       "value": " 1000/? [00:08&lt;00:00, 149.06it/s]"
      }
     },
     "2eed9c115c364661a0baf1b455d83986": {
      "model_module": "@jupyter-widgets/base",
      "model_module_version": "1.2.0",
      "model_name": "LayoutModel",
      "state": {
       "width": "20px"
      }
     },
     "30111cea80694a51870c8ab5148fef2f": {
      "model_module": "@jupyter-widgets/base",
      "model_module_version": "1.2.0",
      "model_name": "LayoutModel",
      "state": {}
     },
     "303e3c338ca6461f88dae57e7f26235a": {
      "model_module": "@jupyter-widgets/controls",
      "model_module_version": "1.5.0",
      "model_name": "ProgressStyleModel",
      "state": {
       "description_width": ""
      }
     },
     "30ee2983e99d4b298d08e194dca6d76d": {
      "model_module": "@jupyter-widgets/controls",
      "model_module_version": "1.5.0",
      "model_name": "DescriptionStyleModel",
      "state": {
       "description_width": ""
      }
     },
     "32057fd75eb0407e9f6e2bd92126a2b8": {
      "model_module": "@jupyter-widgets/controls",
      "model_module_version": "1.5.0",
      "model_name": "FloatProgressModel",
      "state": {
       "bar_style": "success",
       "layout": "IPY_MODEL_ebeaba19fecd401ab91f36b77b9221ca",
       "max": 1,
       "style": "IPY_MODEL_b15fa4e5cc0743b192012cc5f0fdcf94",
       "value": 1
      }
     },
     "3439722ecd314eae97de2614aab158fe": {
      "model_module": "@jupyter-widgets/controls",
      "model_module_version": "1.5.0",
      "model_name": "DescriptionStyleModel",
      "state": {
       "description_width": ""
      }
     },
     "37ed390251cb4339a6a9e63ff9960c6c": {
      "model_module": "@jupyter-widgets/controls",
      "model_module_version": "1.5.0",
      "model_name": "HTMLModel",
      "state": {
       "layout": "IPY_MODEL_147b922419fa4d53b1c7e12fc7088d2c",
       "style": "IPY_MODEL_7812700d301f4d64947f8514c4194ce5",
       "value": " 1000/? [00:09&lt;00:00, 113.29it/s]"
      }
     },
     "3b382311ef1b44b5951a6de432a304e0": {
      "model_module": "@jupyter-widgets/base",
      "model_module_version": "1.2.0",
      "model_name": "LayoutModel",
      "state": {}
     },
     "3e99caa79dcb4618b443ced13e07b760": {
      "model_module": "@jupyter-widgets/base",
      "model_module_version": "1.2.0",
      "model_name": "LayoutModel",
      "state": {}
     },
     "3fa418cce9d5499098275d997d7fa59a": {
      "model_module": "@jupyter-widgets/controls",
      "model_module_version": "1.5.0",
      "model_name": "HTMLModel",
      "state": {
       "layout": "IPY_MODEL_79cb7f2ba5584f449037c3c2a174bee3",
       "style": "IPY_MODEL_3439722ecd314eae97de2614aab158fe"
      }
     },
     "3fc625c6da714dcb89f02e92a735fff8": {
      "model_module": "@jupyter-widgets/base",
      "model_module_version": "1.2.0",
      "model_name": "LayoutModel",
      "state": {}
     },
     "40928b7fd19047ccbff25b7918a003d5": {
      "model_module": "@jupyter-widgets/controls",
      "model_module_version": "1.5.0",
      "model_name": "HTMLModel",
      "state": {
       "layout": "IPY_MODEL_b8ab97cca33549398b2df19d67e63221",
       "style": "IPY_MODEL_b563ec06b0914c95b2b7a815ae865ee1",
       "value": " 1000/? [00:09&lt;00:00, 149.97it/s]"
      }
     },
     "410cf20d367341ed86077d35a50c7921": {
      "model_module": "@jupyter-widgets/base",
      "model_module_version": "1.2.0",
      "model_name": "LayoutModel",
      "state": {
       "width": "20px"
      }
     },
     "41a8771a4c7b4dee8220ddfb66b66d8d": {
      "model_module": "@jupyter-widgets/base",
      "model_module_version": "1.2.0",
      "model_name": "LayoutModel",
      "state": {}
     },
     "44a8805019f643eb8ecaa4df62b711ae": {
      "model_module": "@jupyter-widgets/controls",
      "model_module_version": "1.5.0",
      "model_name": "FloatProgressModel",
      "state": {
       "bar_style": "success",
       "layout": "IPY_MODEL_4c91d520353b49afb6fd41cf664e0d12",
       "max": 1,
       "style": "IPY_MODEL_f10035080c5d46cf92bc0735ea2d7fee",
       "value": 1
      }
     },
     "460b848836f5425b8eb2e9cac44425f1": {
      "model_module": "@jupyter-widgets/controls",
      "model_module_version": "1.5.0",
      "model_name": "HTMLModel",
      "state": {
       "layout": "IPY_MODEL_6b3daa036c714adda50c639c57887568",
       "style": "IPY_MODEL_51aa1e3a394d49a9ba7f2ba846c39ed8"
      }
     },
     "4935394a62b84776b9db34eee361ead3": {
      "model_module": "@jupyter-widgets/controls",
      "model_module_version": "1.5.0",
      "model_name": "DescriptionStyleModel",
      "state": {
       "description_width": ""
      }
     },
     "4c91d520353b49afb6fd41cf664e0d12": {
      "model_module": "@jupyter-widgets/base",
      "model_module_version": "1.2.0",
      "model_name": "LayoutModel",
      "state": {
       "width": "20px"
      }
     },
     "4d21a489b6214e4e8fe9f3cfc715ee76": {
      "model_module": "@jupyter-widgets/base",
      "model_module_version": "1.2.0",
      "model_name": "LayoutModel",
      "state": {}
     },
     "4d700adbf2d346fca75527e6951946bf": {
      "model_module": "@jupyter-widgets/controls",
      "model_module_version": "1.5.0",
      "model_name": "HTMLModel",
      "state": {
       "layout": "IPY_MODEL_dbb08442cffc470f8a07dbdad5017b31",
       "style": "IPY_MODEL_516b811fa547463cbf732d8f8e35e448"
      }
     },
     "516b811fa547463cbf732d8f8e35e448": {
      "model_module": "@jupyter-widgets/controls",
      "model_module_version": "1.5.0",
      "model_name": "DescriptionStyleModel",
      "state": {
       "description_width": ""
      }
     },
     "51aa1e3a394d49a9ba7f2ba846c39ed8": {
      "model_module": "@jupyter-widgets/controls",
      "model_module_version": "1.5.0",
      "model_name": "DescriptionStyleModel",
      "state": {
       "description_width": ""
      }
     },
     "554fca49ca86413fb2a5705e2ebc05bf": {
      "model_module": "@jupyter-widgets/base",
      "model_module_version": "1.2.0",
      "model_name": "LayoutModel",
      "state": {}
     },
     "584c69232f024417a6323c101b871b70": {
      "model_module": "@jupyter-widgets/controls",
      "model_module_version": "1.5.0",
      "model_name": "DescriptionStyleModel",
      "state": {
       "description_width": ""
      }
     },
     "5877762b77524a74bdbdafa496c87784": {
      "model_module": "@jupyter-widgets/controls",
      "model_module_version": "1.5.0",
      "model_name": "HBoxModel",
      "state": {
       "children": [
        "IPY_MODEL_b1337fdab94344149928ff419232af14",
        "IPY_MODEL_1b3ff651581a4fbd83586be3f5cd11c7",
        "IPY_MODEL_c0931df51115480aac7c14acfa1a2612"
       ],
       "layout": "IPY_MODEL_3e99caa79dcb4618b443ced13e07b760"
      }
     },
     "5b3ee37d05cc4ecf8167e763686e0c81": {
      "model_module": "@jupyter-widgets/base",
      "model_module_version": "1.2.0",
      "model_name": "LayoutModel",
      "state": {}
     },
     "5b801f7f5e794fee91b761eb41c67851": {
      "model_module": "@jupyter-widgets/controls",
      "model_module_version": "1.5.0",
      "model_name": "HTMLModel",
      "state": {
       "layout": "IPY_MODEL_754af98e75d6448490c796e5536c1922",
       "style": "IPY_MODEL_4935394a62b84776b9db34eee361ead3"
      }
     },
     "5d71a8d3514545a9b07bc17300ed75a8": {
      "model_module": "@jupyter-widgets/controls",
      "model_module_version": "1.5.0",
      "model_name": "HTMLModel",
      "state": {
       "layout": "IPY_MODEL_3b382311ef1b44b5951a6de432a304e0",
       "style": "IPY_MODEL_bb273f5720214127a22e37285f482da6"
      }
     },
     "5f5000b20a684c9ab304344cfa9432ed": {
      "model_module": "@jupyter-widgets/controls",
      "model_module_version": "1.5.0",
      "model_name": "HTMLModel",
      "state": {
       "layout": "IPY_MODEL_7e16c6d9327447b4b1a0b00fe1661b1a",
       "style": "IPY_MODEL_8671a33042ce4d678d7fab0c6c568ab0",
       "value": " 1000/? [00:07&lt;00:00, 152.83it/s]"
      }
     },
     "607cd8f23983427a8de85b0c91f4052c": {
      "model_module": "@jupyter-widgets/controls",
      "model_module_version": "1.5.0",
      "model_name": "HBoxModel",
      "state": {
       "children": [
        "IPY_MODEL_460b848836f5425b8eb2e9cac44425f1",
        "IPY_MODEL_7cd7125b99fe47a2b6249c81c43067ee",
        "IPY_MODEL_cec6bf43a02245fba0496a34bb54876a"
       ],
       "layout": "IPY_MODEL_a0c1416adcd945dcbfdde2be82bb54fb"
      }
     },
     "60d3f90392de464e993c0378a3c49b9b": {
      "model_module": "@jupyter-widgets/controls",
      "model_module_version": "1.5.0",
      "model_name": "ProgressStyleModel",
      "state": {
       "description_width": ""
      }
     },
     "646f81fadb8d464aac77b223e25dce74": {
      "model_module": "@jupyter-widgets/base",
      "model_module_version": "1.2.0",
      "model_name": "LayoutModel",
      "state": {}
     },
     "6a7050dadf5949fabe9ec99ef7cb620b": {
      "model_module": "@jupyter-widgets/controls",
      "model_module_version": "1.5.0",
      "model_name": "HTMLModel",
      "state": {
       "layout": "IPY_MODEL_21b6a46ec01d41b19490da564cf93fd2",
       "style": "IPY_MODEL_16469f5c27cc4b75b0418fb95ca68852",
       "value": " 1000/? [00:07&lt;00:00, 152.44it/s]"
      }
     },
     "6b3daa036c714adda50c639c57887568": {
      "model_module": "@jupyter-widgets/base",
      "model_module_version": "1.2.0",
      "model_name": "LayoutModel",
      "state": {}
     },
     "6e5c0ce8997e4920855e26cf243b0970": {
      "model_module": "@jupyter-widgets/base",
      "model_module_version": "1.2.0",
      "model_name": "LayoutModel",
      "state": {}
     },
     "7091a51dad894797ab3f415c92aa4ad1": {
      "model_module": "@jupyter-widgets/controls",
      "model_module_version": "1.5.0",
      "model_name": "ProgressStyleModel",
      "state": {
       "description_width": ""
      }
     },
     "7293f27f85424f6d93efa28b0c573448": {
      "model_module": "@jupyter-widgets/controls",
      "model_module_version": "1.5.0",
      "model_name": "HTMLModel",
      "state": {
       "layout": "IPY_MODEL_c65882fd26d847989551bec8621870b0",
       "style": "IPY_MODEL_ccce81018d704c978038438fb1162ad2"
      }
     },
     "72bd5488b667497693cf659642fdb8a3": {
      "model_module": "@jupyter-widgets/controls",
      "model_module_version": "1.5.0",
      "model_name": "DescriptionStyleModel",
      "state": {
       "description_width": ""
      }
     },
     "754af98e75d6448490c796e5536c1922": {
      "model_module": "@jupyter-widgets/base",
      "model_module_version": "1.2.0",
      "model_name": "LayoutModel",
      "state": {}
     },
     "7765725367634f3588de2cf74285fa22": {
      "model_module": "@jupyter-widgets/controls",
      "model_module_version": "1.5.0",
      "model_name": "ProgressStyleModel",
      "state": {
       "description_width": ""
      }
     },
     "7812700d301f4d64947f8514c4194ce5": {
      "model_module": "@jupyter-widgets/controls",
      "model_module_version": "1.5.0",
      "model_name": "DescriptionStyleModel",
      "state": {
       "description_width": ""
      }
     },
     "790549886423419eb3b4e124163d1ab4": {
      "model_module": "@jupyter-widgets/controls",
      "model_module_version": "1.5.0",
      "model_name": "HBoxModel",
      "state": {
       "children": [
        "IPY_MODEL_e8a349fd5c7a41d9a676ed97b0f9fedd",
        "IPY_MODEL_44a8805019f643eb8ecaa4df62b711ae",
        "IPY_MODEL_e9a7243e2565439694dec10a63e98a67"
       ],
       "layout": "IPY_MODEL_554fca49ca86413fb2a5705e2ebc05bf"
      }
     },
     "79cb7f2ba5584f449037c3c2a174bee3": {
      "model_module": "@jupyter-widgets/base",
      "model_module_version": "1.2.0",
      "model_name": "LayoutModel",
      "state": {}
     },
     "7ab6d18a95734b1fabeb216adc3abb59": {
      "model_module": "@jupyter-widgets/controls",
      "model_module_version": "1.5.0",
      "model_name": "FloatProgressModel",
      "state": {
       "bar_style": "success",
       "layout": "IPY_MODEL_126eb8315afb482483cca7ea30d1f6e4",
       "max": 1,
       "style": "IPY_MODEL_60d3f90392de464e993c0378a3c49b9b",
       "value": 1
      }
     },
     "7adfbbf41c7c46609efce718b1ba7f70": {
      "model_module": "@jupyter-widgets/controls",
      "model_module_version": "1.5.0",
      "model_name": "HBoxModel",
      "state": {
       "children": [
        "IPY_MODEL_e2655080a54b4716bcfbd762d16a629b",
        "IPY_MODEL_f109ee83b218469eb0c1db13ff2b408e",
        "IPY_MODEL_2cd574d3251146b8811ce61cc1c3d5df"
       ],
       "layout": "IPY_MODEL_92f50e1b40e343b09b54945501cce238"
      }
     },
     "7b45830b2fe64e7ba2cec42b9ec10e0d": {
      "model_module": "@jupyter-widgets/controls",
      "model_module_version": "1.5.0",
      "model_name": "HTMLModel",
      "state": {
       "layout": "IPY_MODEL_ad5c1751449e4217aa51b78b08cf2d3a",
       "style": "IPY_MODEL_11adeeccd9ae4f2cba099d22f2ebbcdd"
      }
     },
     "7cd7125b99fe47a2b6249c81c43067ee": {
      "model_module": "@jupyter-widgets/controls",
      "model_module_version": "1.5.0",
      "model_name": "FloatProgressModel",
      "state": {
       "bar_style": "success",
       "layout": "IPY_MODEL_0030e66af30c4f6daa06240d96764707",
       "max": 1,
       "style": "IPY_MODEL_7f2e1f42eff94d52a003b884e6b1e15d",
       "value": 1
      }
     },
     "7e16c6d9327447b4b1a0b00fe1661b1a": {
      "model_module": "@jupyter-widgets/base",
      "model_module_version": "1.2.0",
      "model_name": "LayoutModel",
      "state": {}
     },
     "7f2e1f42eff94d52a003b884e6b1e15d": {
      "model_module": "@jupyter-widgets/controls",
      "model_module_version": "1.5.0",
      "model_name": "ProgressStyleModel",
      "state": {
       "description_width": ""
      }
     },
     "806570cf405a46cbbae68d0465a10002": {
      "model_module": "@jupyter-widgets/controls",
      "model_module_version": "1.5.0",
      "model_name": "DescriptionStyleModel",
      "state": {
       "description_width": ""
      }
     },
     "8671a33042ce4d678d7fab0c6c568ab0": {
      "model_module": "@jupyter-widgets/controls",
      "model_module_version": "1.5.0",
      "model_name": "DescriptionStyleModel",
      "state": {
       "description_width": ""
      }
     },
     "8a7c4e25f44a4e238a21506c722c99b9": {
      "model_module": "@jupyter-widgets/base",
      "model_module_version": "1.2.0",
      "model_name": "LayoutModel",
      "state": {}
     },
     "8d7a1ed2746f4a4ea7c1933af17f2f32": {
      "model_module": "@jupyter-widgets/base",
      "model_module_version": "1.2.0",
      "model_name": "LayoutModel",
      "state": {}
     },
     "91552ff0d6d0486faeea9ff5394a6b0b": {
      "model_module": "@jupyter-widgets/controls",
      "model_module_version": "1.5.0",
      "model_name": "HBoxModel",
      "state": {
       "children": [
        "IPY_MODEL_5b801f7f5e794fee91b761eb41c67851",
        "IPY_MODEL_2425980b82954a5790a21dfde70487b8",
        "IPY_MODEL_5f5000b20a684c9ab304344cfa9432ed"
       ],
       "layout": "IPY_MODEL_5b3ee37d05cc4ecf8167e763686e0c81"
      }
     },
     "92f50e1b40e343b09b54945501cce238": {
      "model_module": "@jupyter-widgets/base",
      "model_module_version": "1.2.0",
      "model_name": "LayoutModel",
      "state": {}
     },
     "9432515ade814eb2b67a0461c1305a04": {
      "model_module": "@jupyter-widgets/controls",
      "model_module_version": "1.5.0",
      "model_name": "HBoxModel",
      "state": {
       "children": [
        "IPY_MODEL_3fa418cce9d5499098275d997d7fa59a",
        "IPY_MODEL_32057fd75eb0407e9f6e2bd92126a2b8",
        "IPY_MODEL_170e474f81804d19be9bb5bbb6fa0823"
       ],
       "layout": "IPY_MODEL_f4bff3096e4847daa4b8a32c81d04895"
      }
     },
     "94399f1961e845a1a84eab71fb7eb1cc": {
      "model_module": "@jupyter-widgets/controls",
      "model_module_version": "1.5.0",
      "model_name": "FloatProgressModel",
      "state": {
       "bar_style": "success",
       "layout": "IPY_MODEL_2eed9c115c364661a0baf1b455d83986",
       "max": 1,
       "style": "IPY_MODEL_040c0e28d5c744a3b91db28550802b51",
       "value": 1
      }
     },
     "9df94425842041c888c323b553c36774": {
      "model_module": "@jupyter-widgets/controls",
      "model_module_version": "1.5.0",
      "model_name": "HTMLModel",
      "state": {
       "layout": "IPY_MODEL_2081ace23d8b4e54a612e9f9df55de42",
       "style": "IPY_MODEL_d6901074cd5e4c429b21006be09ba4fa"
      }
     },
     "9e97a7efc0ba4aa9ba3f211d63a3037f": {
      "model_module": "@jupyter-widgets/base",
      "model_module_version": "1.2.0",
      "model_name": "LayoutModel",
      "state": {}
     },
     "a03e899f9c09463f87dc32822534ba78": {
      "model_module": "@jupyter-widgets/controls",
      "model_module_version": "1.5.0",
      "model_name": "HTMLModel",
      "state": {
       "layout": "IPY_MODEL_f6822e01c16642e897132dba81385689",
       "style": "IPY_MODEL_df29ffef48f243dcb6b15e6243be5232",
       "value": " 1000/? [00:07&lt;00:00, 145.63it/s]"
      }
     },
     "a0c1416adcd945dcbfdde2be82bb54fb": {
      "model_module": "@jupyter-widgets/base",
      "model_module_version": "1.2.0",
      "model_name": "LayoutModel",
      "state": {}
     },
     "a22b4b1b151e44b1963e8f4ff395e2ff": {
      "model_module": "@jupyter-widgets/base",
      "model_module_version": "1.2.0",
      "model_name": "LayoutModel",
      "state": {}
     },
     "a7cdc777148740e0b33df7fce5fdda31": {
      "model_module": "@jupyter-widgets/controls",
      "model_module_version": "1.5.0",
      "model_name": "FloatProgressModel",
      "state": {
       "bar_style": "success",
       "layout": "IPY_MODEL_ee5de3d76d864b84af7d5bb68f86a7f0",
       "max": 1,
       "style": "IPY_MODEL_303e3c338ca6461f88dae57e7f26235a",
       "value": 1
      }
     },
     "ad5c1751449e4217aa51b78b08cf2d3a": {
      "model_module": "@jupyter-widgets/base",
      "model_module_version": "1.2.0",
      "model_name": "LayoutModel",
      "state": {}
     },
     "ae0a8d5835c443db964894325ff02043": {
      "model_module": "@jupyter-widgets/base",
      "model_module_version": "1.2.0",
      "model_name": "LayoutModel",
      "state": {}
     },
     "b1337fdab94344149928ff419232af14": {
      "model_module": "@jupyter-widgets/controls",
      "model_module_version": "1.5.0",
      "model_name": "HTMLModel",
      "state": {
       "layout": "IPY_MODEL_6e5c0ce8997e4920855e26cf243b0970",
       "style": "IPY_MODEL_02d2f469c58d47bda03a706bc2425eaa"
      }
     },
     "b15fa4e5cc0743b192012cc5f0fdcf94": {
      "model_module": "@jupyter-widgets/controls",
      "model_module_version": "1.5.0",
      "model_name": "ProgressStyleModel",
      "state": {
       "description_width": ""
      }
     },
     "b563ec06b0914c95b2b7a815ae865ee1": {
      "model_module": "@jupyter-widgets/controls",
      "model_module_version": "1.5.0",
      "model_name": "DescriptionStyleModel",
      "state": {
       "description_width": ""
      }
     },
     "b8ab97cca33549398b2df19d67e63221": {
      "model_module": "@jupyter-widgets/base",
      "model_module_version": "1.2.0",
      "model_name": "LayoutModel",
      "state": {}
     },
     "b8e8ef32896849d1b986c89ab672f4fa": {
      "model_module": "@jupyter-widgets/controls",
      "model_module_version": "1.5.0",
      "model_name": "ProgressStyleModel",
      "state": {
       "description_width": ""
      }
     },
     "bb14afb98a594254a2ea8c0c23458212": {
      "model_module": "@jupyter-widgets/base",
      "model_module_version": "1.2.0",
      "model_name": "LayoutModel",
      "state": {
       "width": "20px"
      }
     },
     "bb273f5720214127a22e37285f482da6": {
      "model_module": "@jupyter-widgets/controls",
      "model_module_version": "1.5.0",
      "model_name": "DescriptionStyleModel",
      "state": {
       "description_width": ""
      }
     },
     "bcca9f8e2d3f4e8389227039afc6ae08": {
      "model_module": "@jupyter-widgets/controls",
      "model_module_version": "1.5.0",
      "model_name": "ProgressStyleModel",
      "state": {
       "description_width": ""
      }
     },
     "c0931df51115480aac7c14acfa1a2612": {
      "model_module": "@jupyter-widgets/controls",
      "model_module_version": "1.5.0",
      "model_name": "HTMLModel",
      "state": {
       "layout": "IPY_MODEL_fe90b407511b4f4fbba017c015ebe95c",
       "style": "IPY_MODEL_db32b730ca6344a58151d98de259399a",
       "value": " 1000/? [00:08&lt;00:00, 108.40it/s]"
      }
     },
     "c1685975614a4c43bb42068171f6a736": {
      "model_module": "@jupyter-widgets/base",
      "model_module_version": "1.2.0",
      "model_name": "LayoutModel",
      "state": {}
     },
     "c65882fd26d847989551bec8621870b0": {
      "model_module": "@jupyter-widgets/base",
      "model_module_version": "1.2.0",
      "model_name": "LayoutModel",
      "state": {}
     },
     "c6bbd79fcfe84852bb6e91d53b1e1052": {
      "model_module": "@jupyter-widgets/controls",
      "model_module_version": "1.5.0",
      "model_name": "HBoxModel",
      "state": {
       "children": [
        "IPY_MODEL_5d71a8d3514545a9b07bc17300ed75a8",
        "IPY_MODEL_94399f1961e845a1a84eab71fb7eb1cc",
        "IPY_MODEL_f337f48a8ff745fab2e09e50f86d26cc"
       ],
       "layout": "IPY_MODEL_0355dd9e363f4b759a27b1b1e36b9f17"
      }
     },
     "cb1c52aa8f5f40afa4aab3f2b7c7beb4": {
      "model_module": "@jupyter-widgets/base",
      "model_module_version": "1.2.0",
      "model_name": "LayoutModel",
      "state": {
       "width": "20px"
      }
     },
     "ccce81018d704c978038438fb1162ad2": {
      "model_module": "@jupyter-widgets/controls",
      "model_module_version": "1.5.0",
      "model_name": "DescriptionStyleModel",
      "state": {
       "description_width": ""
      }
     },
     "ccff976bea5b4e6ea0315f1b95016b53": {
      "model_module": "@jupyter-widgets/controls",
      "model_module_version": "1.5.0",
      "model_name": "FloatProgressModel",
      "state": {
       "bar_style": "success",
       "layout": "IPY_MODEL_1b9aeec9b25547879820fa24ec2e82c1",
       "max": 1,
       "style": "IPY_MODEL_7091a51dad894797ab3f415c92aa4ad1",
       "value": 1
      }
     },
     "cdc09f3045474d34be4492eabb774de7": {
      "model_module": "@jupyter-widgets/controls",
      "model_module_version": "1.5.0",
      "model_name": "HBoxModel",
      "state": {
       "children": [
        "IPY_MODEL_9df94425842041c888c323b553c36774",
        "IPY_MODEL_27cc256f3eaf44d9b88e1c540e64bc2b",
        "IPY_MODEL_6a7050dadf5949fabe9ec99ef7cb620b"
       ],
       "layout": "IPY_MODEL_3fc625c6da714dcb89f02e92a735fff8"
      }
     },
     "cec6bf43a02245fba0496a34bb54876a": {
      "model_module": "@jupyter-widgets/controls",
      "model_module_version": "1.5.0",
      "model_name": "HTMLModel",
      "state": {
       "layout": "IPY_MODEL_00a0f92272e94385b81919f297ad6747",
       "style": "IPY_MODEL_584c69232f024417a6323c101b871b70",
       "value": " 1000/? [00:07&lt;00:00, 147.70it/s]"
      }
     },
     "d6901074cd5e4c429b21006be09ba4fa": {
      "model_module": "@jupyter-widgets/controls",
      "model_module_version": "1.5.0",
      "model_name": "DescriptionStyleModel",
      "state": {
       "description_width": ""
      }
     },
     "d6e5e834b29f4fa4963c5f2a003186ce": {
      "model_module": "@jupyter-widgets/base",
      "model_module_version": "1.2.0",
      "model_name": "LayoutModel",
      "state": {
       "width": "20px"
      }
     },
     "d792a0f47c974e1381ad72e870d21c8f": {
      "model_module": "@jupyter-widgets/controls",
      "model_module_version": "1.5.0",
      "model_name": "ProgressStyleModel",
      "state": {
       "description_width": ""
      }
     },
     "db32b730ca6344a58151d98de259399a": {
      "model_module": "@jupyter-widgets/controls",
      "model_module_version": "1.5.0",
      "model_name": "DescriptionStyleModel",
      "state": {
       "description_width": ""
      }
     },
     "dbb08442cffc470f8a07dbdad5017b31": {
      "model_module": "@jupyter-widgets/base",
      "model_module_version": "1.2.0",
      "model_name": "LayoutModel",
      "state": {}
     },
     "ded790e1e77f4a0791afd4dbf415ca90": {
      "model_module": "@jupyter-widgets/controls",
      "model_module_version": "1.5.0",
      "model_name": "HTMLModel",
      "state": {
       "layout": "IPY_MODEL_41a8771a4c7b4dee8220ddfb66b66d8d",
       "style": "IPY_MODEL_090fade9c75a4c5d816908387730b5ec",
       "value": " 1000/? [00:10&lt;00:00, 116.50it/s]"
      }
     },
     "df29ffef48f243dcb6b15e6243be5232": {
      "model_module": "@jupyter-widgets/controls",
      "model_module_version": "1.5.0",
      "model_name": "DescriptionStyleModel",
      "state": {
       "description_width": ""
      }
     },
     "e0945072cc22449a9ac58d6cec915ffb": {
      "model_module": "@jupyter-widgets/controls",
      "model_module_version": "1.5.0",
      "model_name": "HBoxModel",
      "state": {
       "children": [
        "IPY_MODEL_7293f27f85424f6d93efa28b0c573448",
        "IPY_MODEL_11b9d67b5e3b4c8a8ce9fbe631dae0c1",
        "IPY_MODEL_40928b7fd19047ccbff25b7918a003d5"
       ],
       "layout": "IPY_MODEL_ae0a8d5835c443db964894325ff02043"
      }
     },
     "e2655080a54b4716bcfbd762d16a629b": {
      "model_module": "@jupyter-widgets/controls",
      "model_module_version": "1.5.0",
      "model_name": "HTMLModel",
      "state": {
       "layout": "IPY_MODEL_4d21a489b6214e4e8fe9f3cfc715ee76",
       "style": "IPY_MODEL_30ee2983e99d4b298d08e194dca6d76d"
      }
     },
     "e73981244646490688bd483ba7da1bc3": {
      "model_module": "@jupyter-widgets/base",
      "model_module_version": "1.2.0",
      "model_name": "LayoutModel",
      "state": {
       "width": "20px"
      }
     },
     "e8a349fd5c7a41d9a676ed97b0f9fedd": {
      "model_module": "@jupyter-widgets/controls",
      "model_module_version": "1.5.0",
      "model_name": "HTMLModel",
      "state": {
       "layout": "IPY_MODEL_c1685975614a4c43bb42068171f6a736",
       "style": "IPY_MODEL_ef4427754cd44d1e9c96f9d4a4640f89"
      }
     },
     "e9a7243e2565439694dec10a63e98a67": {
      "model_module": "@jupyter-widgets/controls",
      "model_module_version": "1.5.0",
      "model_name": "HTMLModel",
      "state": {
       "layout": "IPY_MODEL_8a7c4e25f44a4e238a21506c722c99b9",
       "style": "IPY_MODEL_0c89289fee8e43fcbe326b6a81e457d8",
       "value": " 1000/? [00:07&lt;00:00, 135.83it/s]"
      }
     },
     "ebeaba19fecd401ab91f36b77b9221ca": {
      "model_module": "@jupyter-widgets/base",
      "model_module_version": "1.2.0",
      "model_name": "LayoutModel",
      "state": {
       "width": "20px"
      }
     },
     "ee11c4970bc0495f939c98fc77c3a333": {
      "model_module": "@jupyter-widgets/base",
      "model_module_version": "1.2.0",
      "model_name": "LayoutModel",
      "state": {}
     },
     "ee5de3d76d864b84af7d5bb68f86a7f0": {
      "model_module": "@jupyter-widgets/base",
      "model_module_version": "1.2.0",
      "model_name": "LayoutModel",
      "state": {
       "width": "20px"
      }
     },
     "ef4427754cd44d1e9c96f9d4a4640f89": {
      "model_module": "@jupyter-widgets/controls",
      "model_module_version": "1.5.0",
      "model_name": "DescriptionStyleModel",
      "state": {
       "description_width": ""
      }
     },
     "f10035080c5d46cf92bc0735ea2d7fee": {
      "model_module": "@jupyter-widgets/controls",
      "model_module_version": "1.5.0",
      "model_name": "ProgressStyleModel",
      "state": {
       "description_width": ""
      }
     },
     "f109ee83b218469eb0c1db13ff2b408e": {
      "model_module": "@jupyter-widgets/controls",
      "model_module_version": "1.5.0",
      "model_name": "FloatProgressModel",
      "state": {
       "bar_style": "success",
       "layout": "IPY_MODEL_d6e5e834b29f4fa4963c5f2a003186ce",
       "max": 1,
       "style": "IPY_MODEL_7765725367634f3588de2cf74285fa22",
       "value": 1
      }
     },
     "f337f48a8ff745fab2e09e50f86d26cc": {
      "model_module": "@jupyter-widgets/controls",
      "model_module_version": "1.5.0",
      "model_name": "HTMLModel",
      "state": {
       "layout": "IPY_MODEL_04a08c716c534cd0891d34854de359fc",
       "style": "IPY_MODEL_15e308ba5a9c4d05b9dddf4aeebf7cdc",
       "value": " 1000/? [00:07&lt;00:00, 143.16it/s]"
      }
     },
     "f4bff3096e4847daa4b8a32c81d04895": {
      "model_module": "@jupyter-widgets/base",
      "model_module_version": "1.2.0",
      "model_name": "LayoutModel",
      "state": {}
     },
     "f6822e01c16642e897132dba81385689": {
      "model_module": "@jupyter-widgets/base",
      "model_module_version": "1.2.0",
      "model_name": "LayoutModel",
      "state": {}
     },
     "f7484489eadd4e9dafdbd0c3e4ea19ba": {
      "model_module": "@jupyter-widgets/controls",
      "model_module_version": "1.5.0",
      "model_name": "HBoxModel",
      "state": {
       "children": [
        "IPY_MODEL_f829e235f6de45cfb7cb7270f54e2347",
        "IPY_MODEL_7ab6d18a95734b1fabeb216adc3abb59",
        "IPY_MODEL_ded790e1e77f4a0791afd4dbf415ca90"
       ],
       "layout": "IPY_MODEL_a22b4b1b151e44b1963e8f4ff395e2ff"
      }
     },
     "f829e235f6de45cfb7cb7270f54e2347": {
      "model_module": "@jupyter-widgets/controls",
      "model_module_version": "1.5.0",
      "model_name": "HTMLModel",
      "state": {
       "layout": "IPY_MODEL_ee11c4970bc0495f939c98fc77c3a333",
       "style": "IPY_MODEL_1f030952fb564c49ac8f5ee620c45003"
      }
     },
     "fe90b407511b4f4fbba017c015ebe95c": {
      "model_module": "@jupyter-widgets/base",
      "model_module_version": "1.2.0",
      "model_name": "LayoutModel",
      "state": {}
     }
    },
    "version_major": 2,
    "version_minor": 0
   }
  }
 },
 "nbformat": 4,
 "nbformat_minor": 5
}
