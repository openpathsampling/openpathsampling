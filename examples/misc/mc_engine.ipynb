{
 "cells": [
  {
   "cell_type": "markdown",
   "id": "c76eb74e",
   "metadata": {},
   "source": [
    "# The OpenMMTools Monte Carlo Engine\n",
    "\n",
    "While it is very common to use molecular dynamics to generate the paths used in path sampling, a path can be any ordered sequence of snapshots. For example, one could generate a sequence of Markov Chain Monte Carlo steps connecting two states, and do path sampling on that.\n",
    "\n",
    "For those interested in doing this (within the domain of force-field based simulation), the OpenMMTools project has a subpackage for Markov Chain Monte Carlo, and OpenPathSampling has an engine that uses that subpackage.\n",
    "\n",
    "As usual, you set up the engine just as you would for a normal simulation with it. Then we wrap things from the underlying tool in the OPS engine wrapper."
   ]
  },
  {
   "cell_type": "markdown",
   "id": "62c50bb4",
   "metadata": {},
   "source": [
    "## Creating an MCMC sampler with OpenMMTools"
   ]
  },
  {
   "cell_type": "code",
   "execution_count": null,
   "id": "b6d7dffa",
   "metadata": {},
   "outputs": [],
   "source": [
    "from simtk import unit\n",
    "import openmmtools\n",
    "from openmmtools import testsystems, cache, mcmc\n",
    "from openmmtools.states import ThermodynamicState, SamplerState"
   ]
  },
  {
   "cell_type": "code",
   "execution_count": null,
   "id": "9f0699b1",
   "metadata": {},
   "outputs": [],
   "source": [
    "testsystem = testsystems.AlanineDipeptideVacuum()\n",
    "thermodynamic_state = ThermodynamicState(system=testsystem.system, \n",
    "                                         temperature=298*unit.kelvin)"
   ]
  },
  {
   "cell_type": "markdown",
   "id": "e8f074e5",
   "metadata": {},
   "source": [
    "In the OpenMMTools MCMC package, each move applies to all the atoms in its `atom_subset`. So to create a move that randomly selects a single atom and randomly displaces that atom, you need to create a displacement move for each atom, then join them in a `WeightedMove`."
   ]
  },
  {
   "cell_type": "code",
   "execution_count": null,
   "id": "b60d6bf6",
   "metadata": {},
   "outputs": [],
   "source": [
    "moves = [\n",
    "    mcmc.MCDisplacementMove(displacement_sigma=0.1*unit.angstrom,\n",
    "                            atom_subset=[i])\n",
    "    for i in range(testsystem.mdtraj_topology.n_atoms)\n",
    "]\n",
    "move = mcmc.WeightedMove([(m, 1/len(moves)) for m in moves])"
   ]
  },
  {
   "cell_type": "code",
   "execution_count": null,
   "id": "47a8f25e",
   "metadata": {},
   "outputs": [],
   "source": [
    "# use OpenMMTools to get good initial conditions\n",
    "sampler_state = SamplerState(positions=testsystem.positions)\n",
    "sampler = mcmc.MCMCSampler(thermodynamic_state, sampler_state, move)\n",
    "sampler.minimize()"
   ]
  },
  {
   "cell_type": "markdown",
   "id": "dd042be6",
   "metadata": {},
   "source": [
    "## Setting up path sampling with OpenPathSampling"
   ]
  },
  {
   "cell_type": "code",
   "execution_count": null,
   "id": "0abcc7f2",
   "metadata": {},
   "outputs": [],
   "source": [
    "import openpathsampling as paths\n",
    "from openpathsampling.engines.openmm.mcengine import OpenMMToolsMCEngine, snapshot_from_sampler_state\n",
    "\n",
    "# we'll use the new storage, because it is faster\n",
    "from openpathsampling.experimental.storage import monkey_patch_all, Storage\n",
    "from openpathsampling.experimental.storage.collective_variables import MDTrajFunctionCV\n",
    "paths = monkey_patch_all(paths)\n",
    "\n",
    "import mdtraj as md\n",
    "import numpy as np"
   ]
  },
  {
   "cell_type": "markdown",
   "id": "c45c0174",
   "metadata": {},
   "source": [
    "### Creating the OPS engine\n",
    "\n",
    "The next two cells are the only ones specific to integrating this new engine type with OPS."
   ]
  },
  {
   "cell_type": "code",
   "execution_count": null,
   "id": "ef14d359",
   "metadata": {},
   "outputs": [],
   "source": [
    "mdtraj_topology = testsystem.mdtraj_topology\n",
    "ops_topology = paths.engines.MDTrajTopology(mdtraj_topology)"
   ]
  },
  {
   "cell_type": "code",
   "execution_count": null,
   "id": "e11efce1",
   "metadata": {},
   "outputs": [],
   "source": [
    "engine = OpenMMToolsMCEngine(thermodynamic_state, move,\n",
    "                             {'n_steps_per_frame': 100,\n",
    "                              'n_frames_max': 1000},\n",
    "                             topology=ops_topology).named(\"engine\")"
   ]
  },
  {
   "cell_type": "markdown",
   "id": "3f8ddfbf",
   "metadata": {},
   "source": [
    "### Defining CVs and stable states"
   ]
  },
  {
   "cell_type": "code",
   "execution_count": null,
   "id": "b58d192b",
   "metadata": {},
   "outputs": [],
   "source": [
    "# just to verify that we have the right atoms\n",
    "[mdtraj_topology.atom(i) for i in [4, 6, 8, 14, 16]]"
   ]
  },
  {
   "cell_type": "code",
   "execution_count": null,
   "id": "2177932f",
   "metadata": {},
   "outputs": [],
   "source": [
    "# CVs\n",
    "phi = MDTrajFunctionCV(md.compute_dihedrals, topology=ops_topology, \n",
    "                       period_min=-np.pi, period_max=np.pi,\n",
    "                       indices=[[4, 6, 8, 14]]).named(\"phi\")\n",
    "psi = MDTrajFunctionCV(md.compute_dihedrals, topology=ops_topology, \n",
    "                       period_min=-np.pi, period_max=np.pi,\n",
    "                       indices=[[6, 8, 14, 16]]).named(\"psi\")"
   ]
  },
  {
   "cell_type": "code",
   "execution_count": null,
   "id": "ad6a0505",
   "metadata": {},
   "outputs": [],
   "source": [
    "# TODO: check these values for Amber ff96\n",
    "# estimates based on eyeballing https://doi.org/10.1098/rspa.2019.0036\n",
    "# Mediocre state defs won't mess up the sampling, but aren't as helpful in teaching\n",
    "C7eq = (\n",
    "    paths.PeriodicCVDefinedVolume(phi, lambda_min=-np.pi, lambda_max=-0.8,\n",
    "                                  period_min=-np.pi, period_max=np.pi)\n",
    "    & paths.PeriodicCVDefinedVolume(psi, lambda_min=0.5, lambda_max=3.5,\n",
    "                                    period_min=-np.pi, period_max=np.pi)\n",
    ").named(\"C7eq\")\n",
    "C7ax = (\n",
    "    paths.PeriodicCVDefinedVolume(phi, lambda_min=0.5, lambda_max=1.5,\n",
    "                                  period_min=-np.pi, period_max=np.pi)\n",
    "    & paths.PeriodicCVDefinedVolume(psi, lambda_min=-2.0, lambda_max=-0.5,\n",
    "                                    period_min=-np.pi, period_max=np.pi)\n",
    ").named(\"C7ax\")\n",
    "# period information in CVDefinedVolumes won't be required in OPS 2.0"
   ]
  },
  {
   "cell_type": "markdown",
   "id": "2dcd56fc",
   "metadata": {},
   "source": [
    "### Creating sampling network and move scheme\n",
    "\n",
    "For TPS, these are very easy. They get more complicated for TIS."
   ]
  },
  {
   "cell_type": "code",
   "execution_count": null,
   "id": "3c90d80b",
   "metadata": {},
   "outputs": [],
   "source": [
    "network = paths.TPSNetwork(C7eq, C7ax).named(\"tps-network\")\n",
    "scheme = paths.OneWayShootingMoveScheme(network, engine=engine).named('one-way TPS')"
   ]
  },
  {
   "cell_type": "markdown",
   "id": "2c400df7",
   "metadata": {},
   "source": [
    "### Getting an initial transition trajectory\n",
    "\n",
    "This is always one of the hardest parts of setting up a TPS simulation. As it happens, alanine dipeptide is a relatively ballistic system (velocity memory can matter) so it can be easier to generate a high temperature trajectory with molecular dynamics than with Monte Carlo. Therefore, we'll use MD to create our initial trajectory."
   ]
  },
  {
   "cell_type": "code",
   "execution_count": null,
   "id": "733f1c19",
   "metadata": {},
   "outputs": [],
   "source": [
    "from openmmtools import integrators\n",
    "hi_temp = paths.engines.openmm.Engine(\n",
    "    topology=ops_topology,\n",
    "    system=testsystem.system,\n",
    "    integrator=integrators.VVVRIntegrator(temperature=750*unit.kelvin,\n",
    "                                          collision_rate=1.0 / unit.picosecond,\n",
    "                                          timestep=2.0 * unit.femtosecond),\n",
    "    options={'n_steps_per_frame': 10,\n",
    "             'n_frames_max': 20000}\n",
    ")"
   ]
  },
  {
   "cell_type": "code",
   "execution_count": null,
   "id": "22539c36",
   "metadata": {},
   "outputs": [],
   "source": [
    "# make a snapshot from the minimized sampler state\n",
    "snapshot = snapshot_from_sampler_state(sampler.sampler_state)"
   ]
  },
  {
   "cell_type": "code",
   "execution_count": null,
   "id": "3a792e37",
   "metadata": {},
   "outputs": [],
   "source": [
    "visit_all = paths.VisitAllStatesEnsemble([C7ax, C7eq])\n",
    "try:\n",
    "    traj = hi_temp.generate(snapshot, visit_all.can_append)\n",
    "except paths.engines.EngineError as e:\n",
    "    traj = e.last_trajectory  # for debugging\n",
    "    raise"
   ]
  },
  {
   "cell_type": "code",
   "execution_count": null,
   "id": "f6e813ae",
   "metadata": {},
   "outputs": [],
   "source": [
    "# extract only the transition using scheme.initial_conditions_from_trajectories\n",
    "init_conds = scheme.initial_conditions_from_trajectories(traj)"
   ]
  },
  {
   "cell_type": "markdown",
   "id": "a04d9362",
   "metadata": {},
   "source": [
    "### Equilibrating our initial trajectory"
   ]
  },
  {
   "cell_type": "code",
   "execution_count": null,
   "id": "77620694",
   "metadata": {},
   "outputs": [],
   "source": [
    "equil = paths.PathSampling(\n",
    "    storage=Storage(\"mc_equil.db\", mode='w'),\n",
    "    move_scheme=scheme,\n",
    "    sample_set=init_conds\n",
    ")\n",
    "equil.run_until_decorrelated()"
   ]
  },
  {
   "cell_type": "code",
   "execution_count": null,
   "id": "c11fe847",
   "metadata": {},
   "outputs": [],
   "source": [
    "decorrelated = equil.sample_set"
   ]
  },
  {
   "cell_type": "markdown",
   "id": "e5893361",
   "metadata": {},
   "source": [
    "### Putting together the path sampling simulation"
   ]
  },
  {
   "cell_type": "code",
   "execution_count": null,
   "id": "de4f95b6",
   "metadata": {},
   "outputs": [],
   "source": [
    "storage = Storage(\"mc_tps.db\", mode='w')"
   ]
  },
  {
   "cell_type": "code",
   "execution_count": null,
   "id": "0d3647d2",
   "metadata": {},
   "outputs": [],
   "source": [
    "tps = paths.PathSamplingling(\n",
    "    storage=storage,\n",
    "    move_scheme=scheme,\n",
    "    sample_set=init_conds\n",
    ")"
   ]
  },
  {
   "cell_type": "code",
   "execution_count": null,
   "id": "2b05c53d",
   "metadata": {},
   "outputs": [],
   "source": [
    "tps.run(100)"
   ]
  }
 ],
 "metadata": {
  "kernelspec": {
   "display_name": "Python 3",
   "language": "python",
   "name": "python3"
  },
  "language_info": {
   "codemirror_mode": {
    "name": "ipython",
    "version": 3
   },
   "file_extension": ".py",
   "mimetype": "text/x-python",
   "name": "python",
   "nbconvert_exporter": "python",
   "pygments_lexer": "ipython3",
   "version": "3.7.10"
  }
 },
 "nbformat": 4,
 "nbformat_minor": 5
}
