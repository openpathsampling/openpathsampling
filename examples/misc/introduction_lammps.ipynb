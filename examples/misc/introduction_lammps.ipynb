{
 "cells": [
  {
   "cell_type": "markdown",
   "metadata": {},
   "source": [
    "## LAMMPS Integration "
   ]
  },
  {
   "cell_type": "code",
   "execution_count": 1,
   "metadata": {
    "collapsed": true
   },
   "outputs": [],
   "source": [
    "import openpathsampling as paths\n",
    "import openpathsampling.engines.lammps as eng"
   ]
  },
  {
   "cell_type": "code",
   "execution_count": 2,
   "metadata": {
    "collapsed": true
   },
   "outputs": [],
   "source": [
    "import pandas as pd"
   ]
  },
  {
   "cell_type": "code",
   "execution_count": 3,
   "metadata": {
    "collapsed": true
   },
   "outputs": [],
   "source": [
    "%matplotlib inline\n",
    "import matplotlib.pyplot as plt"
   ]
  },
  {
   "cell_type": "markdown",
   "metadata": {},
   "source": [
    "We will run a test file and load all lines contained in _Lammps_ script"
   ]
  },
  {
   "cell_type": "code",
   "execution_count": 4,
   "metadata": {
    "collapsed": true
   },
   "outputs": [],
   "source": [
    "script = open('simple-lj.lammps','r').read()"
   ]
  },
  {
   "cell_type": "markdown",
   "metadata": {},
   "source": [
    "Output the script. In our case a simple 256 atom LJ liquid."
   ]
  },
  {
   "cell_type": "code",
   "execution_count": 5,
   "metadata": {},
   "outputs": [
    {
     "name": "stdout",
     "output_type": "stream",
     "text": [
      "# 3d Lennard-Jones melt\n",
      "\n",
      "units\t\tlj\n",
      "atom_style\tatomic\n",
      "atom_modify\tmap array\n",
      "\n",
      "lattice\t\tfcc 0.8442\n",
      "region\t\tbox block 0 4 0 4 0 4\n",
      "create_box\t1 box\n",
      "create_atoms\t1 box\n",
      "mass\t\t1 1.0\n",
      "\n",
      "velocity\tall create 1.44 87287 loop geom\n",
      "\n",
      "pair_style\tlj/cut 2.5\n",
      "pair_coeff\t1 1 1.0 1.0 2.5\n",
      "\n",
      "neighbor\t0.3 bin\n",
      "neigh_modify\tdelay 0 every 20 check no\n",
      "\n",
      "fix\t\t1 all nve\n",
      "\n",
      "variable        fx atom fx\n",
      "\n",
      "run 1\n"
     ]
    }
   ],
   "source": [
    "print script"
   ]
  },
  {
   "cell_type": "markdown",
   "metadata": {},
   "source": [
    "Create the engine as usual"
   ]
  },
  {
   "cell_type": "code",
   "execution_count": 6,
   "metadata": {
    "collapsed": true
   },
   "outputs": [],
   "source": [
    "engine = eng.Engine(\n",
    "    inputs=script,\n",
    "    options={\n",
    "        'n_steps_per_frame': 10,\n",
    "        'n_frames_max': 5000\n",
    "    }\n",
    ")"
   ]
  },
  {
   "cell_type": "code",
   "execution_count": 7,
   "metadata": {
    "collapsed": true
   },
   "outputs": [],
   "source": [
    "snap = engine.current_snapshot"
   ]
  },
  {
   "cell_type": "code",
   "execution_count": 8,
   "metadata": {},
   "outputs": [
    {
     "name": "stdout",
     "output_type": "stream",
     "text": [
      "[[  6.71591568e+00   6.71204076e+00   6.69920380e+00]\n",
      " [  8.26140999e-01   8.54909084e-01   1.70677164e-02]\n",
      " [  8.26080058e-01   6.71212319e+00   8.52072533e-01]\n",
      " [  1.60511914e-02   8.59451911e-01   8.34119868e-01]\n",
      " [  1.66978388e+00   6.71273899e+00   6.71721162e+00]\n",
      " [  2.51082874e+00   8.34554020e-01   6.70154349e+00]\n",
      " [  2.52286983e+00   6.70264024e+00   8.20375765e-01]\n",
      " [  1.66309512e+00   8.55269718e-01   8.52390006e-01]\n",
      " [  3.34631859e+00   1.72249075e-02   6.70319084e+00]\n",
      " [  4.20855665e+00   8.60395722e-01   3.46487244e-03]] nm\n"
     ]
    }
   ],
   "source": [
    "print snap.coordinates[0:10]"
   ]
  },
  {
   "cell_type": "markdown",
   "metadata": {},
   "source": [
    "An then just run it, as you are used to"
   ]
  },
  {
   "cell_type": "code",
   "execution_count": 9,
   "metadata": {},
   "outputs": [
    {
     "name": "stdout",
     "output_type": "stream",
     "text": [
      "CPU times: user 2.83 s, sys: 120 ms, total: 2.95 s\n",
      "Wall time: 2.96 s\n"
     ]
    }
   ],
   "source": [
    "%%time\n",
    "traj = engine.generate(engine.current_snapshot, [paths.LengthEnsemble(1000).can_append])"
   ]
  },
  {
   "cell_type": "markdown",
   "metadata": {},
   "source": [
    "Some simple plotting"
   ]
  },
  {
   "cell_type": "markdown",
   "metadata": {},
   "source": [
    "```\n",
    " 999 x      1 step(s) per frame    1.36 s\n",
    " 999 x     10 step(s) per frame    2.68 s\n",
    " 999 x    100 step(s) per frame   18.30 s\n",
    " 999 x   1000 step(s) per frame  166.00 s \n",
    "   1 x 100000 step(s) per frame   16.40 s \n",
    "   1 x  10000 step(s) per frame    1.73 s\n",
    "  99 x    100 step(s) per frame    1.79 s\n",
    "  99 x   1000 step(s) per frame   16.50 s\n",
    "   9 x    100 step(s) per frame    0.17 s\n",
    "```\n",
    "\n",
    "Assume time it takes is $c_1 \\cdot a + c_2 \\cdot a \\cdot b  = time$ would lead to\n",
    "```\n",
    "c2 =  163 us  # time per lammps step\n",
    "c1 = 1345 us  # time per ops step\n",
    "```"
   ]
  },
  {
   "cell_type": "markdown",
   "metadata": {},
   "source": [
    "Plot the time development of the potential energy of a trajectory"
   ]
  },
  {
   "cell_type": "code",
   "execution_count": 10,
   "metadata": {},
   "outputs": [
    {
     "data": {
      "text/plain": [
       "Trajectory[1000]"
      ]
     },
     "execution_count": 10,
     "metadata": {},
     "output_type": "execute_result"
    }
   ],
   "source": [
    "traj"
   ]
  },
  {
   "cell_type": "code",
   "execution_count": 11,
   "metadata": {
    "collapsed": true
   },
   "outputs": [],
   "source": [
    "df = pd.DataFrame([sn.coordinates[0][1]._value for sn in traj])"
   ]
  },
  {
   "cell_type": "code",
   "execution_count": 12,
   "metadata": {},
   "outputs": [
    {
     "data": {
      "text/plain": [
       "<matplotlib.axes._subplots.AxesSubplot at 0x17ef6ecd0>"
      ]
     },
     "execution_count": 12,
     "metadata": {},
     "output_type": "execute_result"
    },
    {
     "data": {
      "image/png": "[encoded data removed]",
      "text/plain": [
       "<matplotlib.figure.Figure at 0x17ef6e390>"
      ]
     },
     "metadata": {},
     "output_type": "display_data"
    }
   ],
   "source": [
    "df.plot()"
   ]
  },
  {
   "cell_type": "markdown",
   "metadata": {},
   "source": [
    "That's it. Go from there... Whohoo..."
   ]
  }
 ],
 "metadata": {
  "anaconda-cloud": {},
  "kernelspec": {
   "display_name": "Python 2",
   "language": "python",
   "name": "python2"
  },
  "language_info": {
   "codemirror_mode": {
    "name": "ipython",
    "version": 2
   },
   "file_extension": ".py",
   "mimetype": "text/x-python",
   "name": "python",
   "nbconvert_exporter": "python",
   "pygments_lexer": "ipython2",
   "version": "2.7.13"
  }
 },
 "nbformat": 4,
 "nbformat_minor": 1
}
